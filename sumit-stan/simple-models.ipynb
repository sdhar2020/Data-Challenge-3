{
 "cells": [
  {
   "cell_type": "markdown",
   "source": [
    "# Sensor Variables in Data\n",
    "| Index\t| Symbol | Description | Unit |\n",
    "| --- | --- | --- | --- |\n",
    "| 1\t| T2 | Total | temperature at fan inlet | °R |\n",
    "| 2\t| T24 | Total temperature at LPC outlet | °R |\n",
    "| 3\t| T30 | Total temperature at HPC outlet | °R |\n",
    "| 4\t| T50 | Total temperature at LPT outlet | °R |\n",
    "| 5\t| P2 | Pressure at fan inlet | psia |\n",
    "| 6\t| P15 | Total pressure in bypass-duct | psia |\n",
    "| 7\t| P30 | Total pressure at HPC outlet | psia |\n",
    "| 8\t| Nf | Physical fan speed | rpm |\n",
    "| 9\t| Nc | Physical core speed | rpm |\n",
    "| 10 | epr | Engine pressure ratio (P50/P2) | — |\n",
    "| 11 | Ps30 | Static pressure at HPC outlet | psia |\n",
    "| 12 | phi | Ratio of fuel flow to Ps30 | pps/psi |\n",
    "| 13 | NRf | Corrected fan speed | rpm |\n",
    "| 14 | NRc | Corrected core speed | rpm |\n",
    "| 15 | BPR | Bypass ratio | — |\n",
    "| 16 | farB | Burner fuel-air ratio | — |\n",
    "| 17 | htBleed | Bleed enthalpy | — |\n",
    "| 18 | Nf_dmd | Demanded fan speed | rpm |\n",
    "| 19 | PCNFR_dmd | Demanded corrected fan speed | rpm |\n",
    "| 20 | W31\tHPT | coolant bleed | lbm/s |\n",
    "| 21 | W32\tLPT | coolant bleed | lbm/s |\n",
    "\n",
    "# TODO\n",
    "1. Need to implement better data sanitization\n",
    "  1. Normalization\n",
    "  2. Smoothing\n",
    "2. Need to verify the Keras models"
   ],
   "metadata": {
    "collapsed": false,
    "pycharm": {
     "name": "#%% md\n"
    }
   }
  },
  {
   "cell_type": "markdown",
   "source": [
    "# Import libraries\n",
    "Do it in one block so we don't miss any."
   ],
   "metadata": {
    "collapsed": false,
    "pycharm": {
     "name": "#%% md\n"
    }
   }
  },
  {
   "cell_type": "code",
   "source": [
    "from math import sqrt\n",
    "\n",
    "from keras.models import Sequential\n",
    "from keras.layers.core import Dense, Activation\n",
    "from pandas import read_csv, merge\n",
    "from seaborn import lmplot\n",
    "from sklearn.linear_model import LinearRegression\n",
    "from sklearn.metrics import mean_squared_error"
   ],
   "metadata": {
    "collapsed": false,
    "pycharm": {
     "name": "#%%\n"
    }
   },
   "execution_count": 6,
   "outputs": []
  },
  {
   "cell_type": "markdown",
   "source": [
    "# Define some constants\n",
    "We'll (sadly) make use of these globally."
   ],
   "metadata": {
    "collapsed": false,
    "pycharm": {
     "name": "#%% md\n"
    }
   }
  },
  {
   "cell_type": "code",
   "execution_count": 7,
   "outputs": [],
   "source": [
    "# Labels for our data files\n",
    "DATA_LABELS = ['unit', 'cycles', 'op_setting1', 'op_setting2', 'op_setting3', 's1', 's2', 's3',\n",
    "               's4', 's5', 's6', 's7', 's8', 's9', 's10', 's11', 's12', 's13', 's14', 's15', 's16',\n",
    "               's17', 's18', 's19', 's20', 's21']\n",
    "\n",
    "# Threshold for our simple cut on standard deviation\n",
    "STDDEV_THRESHOLD = 0.00001"
   ],
   "metadata": {
    "collapsed": false,
    "pycharm": {
     "name": "#%%\n"
    }
   }
  },
  {
   "cell_type": "markdown",
   "source": [
    "# Define some useful functions"
   ],
   "metadata": {
    "collapsed": false,
    "pycharm": {
     "name": "#%% md\n"
    }
   }
  },
  {
   "cell_type": "code",
   "execution_count": 8,
   "outputs": [],
   "source": [
    "def read_data_from_file(file_name):\n",
    "    \"\"\"\n",
    "    Reads the space separated data from the specified path. We're expecting\n",
    "    the files to be Space separated, so we've statically defined the delimiter. We're also\n",
    "    making use of our global labels to truncate the last two columns from the files. They\n",
    "    seemed to have some extra spaces at the end.\n",
    "    :param file_name: The file that we're going to open\n",
    "    :return: A Pandas DF containing the data\n",
    "    \"\"\"\n",
    "    return read_csv(file_name, delimiter=\" \", names=DATA_LABELS, usecols=range(len(DATA_LABELS)))\n",
    "\n",
    "def filter_data_frame_by_stddev(df, stddev_threshold):\n",
    "    \"\"\"\n",
    "    Filters all columns of the data\n",
    "    :param df: The data frame that we're going to filter.\n",
    "    :param stddev_threshold: The threshold that we'll filter at.\n",
    "    :return: Data frame missing the columns with a STDDEV under threshold\n",
    "    \"\"\"\n",
    "    return df.drop(df.std()[df.std() < stddev_threshold].index.values, axis=1)\n",
    "\n",
    "def add_rul_to_data_frame(df):\n",
    "    \"\"\"\n",
    "    Adds the remaining useful life (RUL) metric to the data frame.\n",
    "    :param df: The data frame we want to add the RUL to\n",
    "    :return:\n",
    "    \"\"\"\n",
    "    df1 = merge(df, df.groupby('unit', as_index=False)['cycles'].max(), how='left', on='unit')\n",
    "    df1.rename(columns={\"cycles_x\": \"cycles\", \"cycles_y\": \"maxcycles\"}, inplace=True)\n",
    "    df1['RUL'] = df1['maxcycles'] - df1['cycles']\n",
    "    return df1.drop(\"maxcycles\", axis=1)"
   ],
   "metadata": {
    "collapsed": false,
    "pycharm": {
     "name": "#%%\n"
    }
   }
  },
  {
   "cell_type": "markdown",
   "source": [
    "# Import our training data"
   ],
   "metadata": {
    "collapsed": false,
    "pycharm": {
     "name": "#%% md\n"
    }
   }
  },
  {
   "cell_type": "code",
   "source": [
    "train_df_raw = read_data_from_file(\"Data/train_FD001.txt\")\n",
    "training_df_filtered = filter_data_frame_by_stddev(train_df_raw, STDDEV_THRESHOLD)\n",
    "training_df_filtered_w_rul = add_rul_to_data_frame(training_df_filtered)\n",
    "training_array_x = training_df_filtered_w_rul.drop([\"unit\", 'RUL'], axis = 1).values\n",
    "training_array_y = training_df_filtered_w_rul['RUL'].values"
   ],
   "metadata": {
    "collapsed": false,
    "pycharm": {
     "name": "#%%\n"
    }
   },
   "execution_count": 9,
   "outputs": []
  },
  {
   "cell_type": "markdown",
   "source": [
    "# Import our test data"
   ],
   "metadata": {
    "collapsed": false
   }
  },
  {
   "cell_type": "code",
   "execution_count": 10,
   "outputs": [],
   "source": [
    "test_df_raw = read_data_from_file(\"Data/test_FD001.txt\")\n",
    "test_df_filtered = filter_data_frame_by_stddev(test_df_raw, STDDEV_THRESHOLD)\n",
    "test_df_filtered_w_rul = add_rul_to_data_frame(test_df_filtered)\n",
    "test_array_x = test_df_filtered_w_rul.drop([\"unit\", 'RUL'], axis = 1).values\n",
    "test_array_for_predictions = (test_df_filtered[test_df_filtered.groupby(['unit'])['cycles'].transform(max) == test_df_filtered['cycles']]).drop([\"unit\"], axis=1).values"
   ],
   "metadata": {
    "collapsed": false,
    "pycharm": {
     "name": "#%%\n"
    }
   }
  },
  {
   "cell_type": "markdown",
   "source": [
    "# Implement simple regression"
   ],
   "metadata": {
    "collapsed": false
   }
  },
  {
   "cell_type": "code",
   "execution_count": 11,
   "outputs": [
    {
     "name": "stdout",
     "output_type": "stream",
     "text": [
      "[-3.99640778e-01 -6.14378103e+01  2.43416877e+03 -5.32978571e+00\n",
      " -2.71006100e-01 -4.49405046e-01 -4.89501669e+02  4.19807458e+00\n",
      " -2.72972639e+01 -1.64408021e-01 -2.39529116e+01  5.72435199e+00\n",
      " -1.96394176e+01 -1.37355741e-01 -7.98539951e+01 -9.77215078e-01\n",
      "  9.75703300e+00  2.43794617e+01]\n",
      "125859.9919738139\n"
     ]
    }
   ],
   "source": [
    "simple_regression = LinearRegression().fit(training_array_x, training_array_y)\n",
    "print(simple_regression.coef_)\n",
    "print(simple_regression.intercept_)\n"
   ],
   "metadata": {
    "collapsed": false,
    "pycharm": {
     "name": "#%%\n"
    }
   }
  },
  {
   "cell_type": "markdown",
   "source": [
    "## Perform our predictions on the test data"
   ],
   "metadata": {
    "collapsed": false,
    "pycharm": {
     "name": "#%% md\n"
    }
   }
  },
  {
   "cell_type": "code",
   "execution_count": 12,
   "outputs": [],
   "source": [
    "simple_predictions = simple_regression.predict(test_array_for_predictions)"
   ],
   "metadata": {
    "collapsed": false,
    "pycharm": {
     "name": "#%%\n"
    }
   }
  },
  {
   "cell_type": "markdown",
   "source": [
    "## Read in the actual values for the data"
   ],
   "metadata": {
    "collapsed": false,
    "pycharm": {
     "name": "#%% md\n"
    }
   }
  },
  {
   "cell_type": "code",
   "execution_count": 13,
   "outputs": [],
   "source": [
    "rul = read_csv(\"Data/RUL_FD001.txt\", names=[\"RUL\"])"
   ],
   "metadata": {
    "collapsed": false,
    "pycharm": {
     "name": "#%%\n"
    }
   }
  },
  {
   "cell_type": "markdown",
   "source": [
    "## Join the actuals with the simple predictions"
   ],
   "metadata": {
    "collapsed": false,
    "pycharm": {
     "name": "#%% md\n"
    }
   }
  },
  {
   "cell_type": "code",
   "execution_count": 14,
   "outputs": [],
   "source": [
    "rul['simple_predictions'] = simple_predictions"
   ],
   "metadata": {
    "collapsed": false,
    "pycharm": {
     "name": "#%%\n"
    }
   }
  },
  {
   "cell_type": "markdown",
   "source": [
    "## Simple Prediction vs. RUL"
   ],
   "metadata": {
    "collapsed": false,
    "pycharm": {
     "name": "#%% md\n"
    }
   }
  },
  {
   "cell_type": "code",
   "execution_count": 15,
   "outputs": [
    {
     "data": {
      "text/plain": "<seaborn.axisgrid.FacetGrid at 0xd209a0>"
     },
     "execution_count": 15,
     "metadata": {},
     "output_type": "execute_result"
    },
    {
     "data": {
      "text/plain": "<Figure size 360x360 with 1 Axes>",
      "image/png": "[encoded data removed]"
     },
     "metadata": {
      "needs_background": "light"
     },
     "output_type": "display_data"
    }
   ],
   "source": [
    "lmplot(x='RUL', y='simple_predictions', data=rul, fit_reg=True)"
   ],
   "metadata": {
    "collapsed": false,
    "pycharm": {
     "name": "#%%\n"
    }
   }
  },
  {
   "cell_type": "markdown",
   "source": [
    "## Simple prediction RMS"
   ],
   "metadata": {
    "collapsed": false,
    "pycharm": {
     "name": "#%% md\n",
     "is_executing": true
    }
   }
  },
  {
   "cell_type": "code",
   "execution_count": 16,
   "outputs": [
    {
     "data": {
      "text/plain": "31.25047411764633"
     },
     "execution_count": 16,
     "metadata": {},
     "output_type": "execute_result"
    }
   ],
   "source": [
    "sqrt(mean_squared_error(rul['RUL'], rul['simple_predictions']))"
   ],
   "metadata": {
    "collapsed": false,
    "pycharm": {
     "name": "#%%\n"
    }
   }
  },
  {
   "cell_type": "markdown",
   "source": [
    "# Implement Keras regression"
   ],
   "metadata": {
    "collapsed": false,
    "pycharm": {
     "name": "#%% md\n"
    }
   }
  },
  {
   "cell_type": "code",
   "execution_count": null,
   "outputs": [],
   "source": [
    "model = Sequential()\n",
    "model.add(Dense(12, input_dim=18, kernel_initializer='normal', activation='relu'))\n",
    "model.add(Dense(8, activation='relu'))\n",
    "model.add(Dense(1, activation='linear'))\n",
    "\n",
    "print(model.summary())\n",
    "model.compile(loss='mean_squared_error', optimizer='adam')\n",
    "model.fit(training_array_x, training_array_x, epochs=100)"
   ],
   "metadata": {
    "collapsed": false,
    "pycharm": {
     "name": "#%%\n"
    }
   }
  },
  {
   "cell_type": "markdown",
   "source": [
    "## Make our predictions"
   ],
   "metadata": {
    "collapsed": false,
    "pycharm": {
     "name": "#%% md\n"
    }
   }
  },
  {
   "cell_type": "code",
   "execution_count": null,
   "outputs": [],
   "source": [
    "keras_predictions = model.predict(test_array_for_predictions)"
   ],
   "metadata": {
    "collapsed": false,
    "pycharm": {
     "name": "#%%\n"
    }
   }
  },
  {
   "cell_type": "markdown",
   "source": [
    "## Join the actuals with the simple predictions"
   ],
   "metadata": {
    "collapsed": false
   }
  },
  {
   "cell_type": "code",
   "execution_count": null,
   "outputs": [],
   "source": [
    "rul['keras_predictions'] = keras_predictions"
   ],
   "metadata": {
    "collapsed": false,
    "pycharm": {
     "name": "#%%\n"
    }
   }
  },
  {
   "cell_type": "markdown",
   "source": [
    "## Keras Prediction vs. RUL"
   ],
   "metadata": {
    "collapsed": false
   }
  },
  {
   "cell_type": "code",
   "execution_count": null,
   "outputs": [],
   "source": [
    "lmplot(x='RUL', y='keras_predictions', data=rul, fit_reg=True)"
   ],
   "metadata": {
    "collapsed": false,
    "pycharm": {
     "name": "#%%\n"
    }
   }
  },
  {
   "cell_type": "markdown",
   "source": [
    "## Keras prediction RMS"
   ],
   "metadata": {
    "collapsed": false,
    "pycharm": {
     "name": "#%% md\n"
    }
   }
  },
  {
   "cell_type": "code",
   "execution_count": null,
   "outputs": [],
   "source": [
    "sqrt(mean_squared_error(rul['RUL'], rul['keras_predictions']))\n"
   ],
   "metadata": {
    "collapsed": false,
    "pycharm": {
     "name": "#%%\n"
    }
   }
  }
 ],
 "metadata": {
  "kernelspec": {
   "display_name": "Python 3",
   "language": "python",
   "name": "python3"
  },
  "language_info": {
   "codemirror_mode": {
    "name": "ipython",
    "version": 2
   },
   "file_extension": ".py",
   "mimetype": "text/x-python",
   "name": "python",
   "nbconvert_exporter": "python",
   "pygments_lexer": "ipython2",
   "version": "2.7.6"
  }
 },
 "nbformat": 4,
 "nbformat_minor": 0
}