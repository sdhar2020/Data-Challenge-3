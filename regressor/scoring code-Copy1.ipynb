{
 "cells": [
  {
   "cell_type": "code",
   "execution_count": 125,
   "metadata": {
    "slideshow": {
     "slide_type": "skip"
    }
   },
   "outputs": [],
   "source": [
    "import pandas as pd\n",
    "from sklearn.preprocessing import MinMaxScaler\n",
    "from sklearn.metrics import mean_squared_error, explained_variance_score, mean_absolute_error\n",
    "from statsmodels.tsa.seasonal import seasonal_decompose\n",
    "import seaborn as sns\n",
    "import datetime as dt\n",
    "from statistics import stdev\n",
    "from tensorflow import keras\n",
    "from tensorflow.keras.models import Sequential\n",
    "from tensorflow.keras.layers import BatchNormalization\n",
    "from tensorflow.keras.layers import Conv2D\n",
    "from tensorflow.keras.layers import MaxPooling2D\n",
    "from tensorflow.keras.layers import Activation\n",
    "from tensorflow.keras.layers import Dropout\n",
    "from tensorflow.keras.layers import Dense\n",
    "from tensorflow.keras.layers import Flatten\n",
    "from tensorflow.keras.layers import Input\n",
    "from tensorflow.keras.models import Model\n",
    "from IPython.display import clear_output\n",
    "import numpy as np\n",
    "import random\n",
    "random.seed(42)\n",
    "sys_random = random.SystemRandom()\n",
    "import joblib\n",
    "import pickle"
   ]
  },
  {
   "cell_type": "markdown",
   "metadata": {
    "slideshow": {
     "slide_type": "slide"
    }
   },
   "source": [
    "# Scoring Data Using Keras Regressor\n",
    "\n",
    "### Matt Mitchell | Sumit Dhar"
   ]
  },
  {
   "cell_type": "code",
   "execution_count": 126,
   "metadata": {
    "slideshow": {
     "slide_type": "skip"
    }
   },
   "outputs": [],
   "source": [
    "cols = ['unit', 'cycles', 'op_setting1', 'op_setting2', 'op_setting3', 's1', 's2', 's3', 's4', 's5', 's6', 's7', 's8', 's9', 's10', 's11', 's12', 's13', 's14', 's15', 's16', 's17', 's18', 's19', 's20', 's21']"
   ]
  },
  {
   "cell_type": "markdown",
   "metadata": {
    "slideshow": {
     "slide_type": "slide"
    }
   },
   "source": [
    "# Reading Test Data"
   ]
  },
  {
   "cell_type": "code",
   "execution_count": 127,
   "metadata": {
    "slideshow": {
     "slide_type": "fragment"
    }
   },
   "outputs": [],
   "source": [
    "tests=[]\n",
    "for i in range(0,4):\n",
    "    df= pd.read_csv('test_FD00'+str(i+1)+'.txt',  delimiter=\" \", decimal=\".\", header=None)\n",
    "    df.drop(df.columns[list(df.columns[df.isnull().sum() > 0])], axis=1, inplace=True)\n",
    "    df.columns = cols\n",
    "    df['unit']= df['unit'].apply(lambda x: (i*1000+x))\n",
    "    tests.append(df)"
   ]
  },
  {
   "cell_type": "code",
   "execution_count": 128,
   "metadata": {
    "slideshow": {
     "slide_type": "fragment"
    }
   },
   "outputs": [],
   "source": [
    "test = pd.concat(tests, axis=0)"
   ]
  },
  {
   "cell_type": "code",
   "execution_count": 129,
   "metadata": {
    "slideshow": {
     "slide_type": "skip"
    }
   },
   "outputs": [
    {
     "data": {
      "text/plain": [
       "707"
      ]
     },
     "execution_count": 129,
     "metadata": {},
     "output_type": "execute_result"
    }
   ],
   "source": [
    "len(test.unit.unique())"
   ]
  },
  {
   "cell_type": "markdown",
   "metadata": {
    "slideshow": {
     "slide_type": "slide"
    }
   },
   "source": [
    "# Scoring Function\n",
    "\n",
    "- Read Keras Model\n",
    "- Read List of features from pickle\n",
    "- Read Scikit learn Scaler from a joblib file"
   ]
  },
  {
   "cell_type": "code",
   "execution_count": 130,
   "metadata": {
    "slideshow": {
     "slide_type": "fragment"
    }
   },
   "outputs": [],
   "source": [
    "def read_model_score(test, model_num=4, version=0, aggr=['min']):\n",
    "    scored=[]\n",
    "    for k in range(model_num):\n",
    "        feature_file= 'feature_''scaler_'+str(k+1)+'_'+str(version)+'.pickle'\n",
    "        with open(feature_file, 'rb') as handle:\n",
    "            features = pickle.load(handle)\n",
    "        scal_name= 'scaler_'+str(k+1)+'_'+str(version)+'.joblib'\n",
    "        xscaler= joblib.load(scal_name)\n",
    "        m_name= 'model_'+str(k+1)+'_'+str(version)\n",
    "        model = keras.models.load_model(m_name)\n",
    "        test_x= test.loc[:,features].values\n",
    "        test_X= xscaler.transform(test_x)\n",
    "        test_u= test[['unit', 'cycles']]\n",
    "        ypred= model.predict(test_X).reshape((-1,))\n",
    "        ypred[ypred==0]= 0.00001\n",
    "        test_u.loc[:,'pMaxCycles']= test_u.loc[:,'cycles']/ypred\n",
    "        max_cyles= pd.DataFrame(test_u.groupby('unit')['cycles'].agg('max'))\n",
    "        max_pMaxCycles = pd.DataFrame(test_u.groupby('unit')['pMaxCycles'].agg('max'))\n",
    "        test_out= max_cyles.merge(max_pMaxCycles, left_index= True, right_index= True)\n",
    "        test_out['pRUL']= (test_out.iloc[:,1]- test_out.iloc[:,0]).apply(lambda x: max(x,0)).apply(lambda x: int(x))\n",
    "        scored.append(test_out['pRUL'])\n",
    "    combined= pd.concat(scored, axis=1)\n",
    "    combined.columns= ['Fail Mode 1', 'Fail Mode 2', 'Fail Mode 3', 'Fail Mode 4']\n",
    "    combined['Final Effect RUL']= combined.min(axis=1)\n",
    "    return(combined)\n",
    "\n",
    "    "
   ]
  },
  {
   "cell_type": "code",
   "execution_count": 131,
   "metadata": {
    "slideshow": {
     "slide_type": "skip"
    }
   },
   "outputs": [
    {
     "name": "stderr",
     "output_type": "stream",
     "text": [
      "/opt/conda/lib/python3.8/site-packages/pandas/core/indexing.py:1596: SettingWithCopyWarning: \n",
      "A value is trying to be set on a copy of a slice from a DataFrame.\n",
      "Try using .loc[row_indexer,col_indexer] = value instead\n",
      "\n",
      "See the caveats in the documentation: https://pandas.pydata.org/pandas-docs/stable/user_guide/indexing.html#returning-a-view-versus-a-copy\n",
      "  self.obj[key] = _infer_fill_value(value)\n",
      "/opt/conda/lib/python3.8/site-packages/pandas/core/indexing.py:1745: SettingWithCopyWarning: \n",
      "A value is trying to be set on a copy of a slice from a DataFrame.\n",
      "Try using .loc[row_indexer,col_indexer] = value instead\n",
      "\n",
      "See the caveats in the documentation: https://pandas.pydata.org/pandas-docs/stable/user_guide/indexing.html#returning-a-view-versus-a-copy\n",
      "  isetter(ilocs[0], value)\n",
      "/opt/conda/lib/python3.8/site-packages/pandas/core/indexing.py:1596: SettingWithCopyWarning: \n",
      "A value is trying to be set on a copy of a slice from a DataFrame.\n",
      "Try using .loc[row_indexer,col_indexer] = value instead\n",
      "\n",
      "See the caveats in the documentation: https://pandas.pydata.org/pandas-docs/stable/user_guide/indexing.html#returning-a-view-versus-a-copy\n",
      "  self.obj[key] = _infer_fill_value(value)\n",
      "/opt/conda/lib/python3.8/site-packages/pandas/core/indexing.py:1745: SettingWithCopyWarning: \n",
      "A value is trying to be set on a copy of a slice from a DataFrame.\n",
      "Try using .loc[row_indexer,col_indexer] = value instead\n",
      "\n",
      "See the caveats in the documentation: https://pandas.pydata.org/pandas-docs/stable/user_guide/indexing.html#returning-a-view-versus-a-copy\n",
      "  isetter(ilocs[0], value)\n",
      "/opt/conda/lib/python3.8/site-packages/pandas/core/indexing.py:1596: SettingWithCopyWarning: \n",
      "A value is trying to be set on a copy of a slice from a DataFrame.\n",
      "Try using .loc[row_indexer,col_indexer] = value instead\n",
      "\n",
      "See the caveats in the documentation: https://pandas.pydata.org/pandas-docs/stable/user_guide/indexing.html#returning-a-view-versus-a-copy\n",
      "  self.obj[key] = _infer_fill_value(value)\n",
      "/opt/conda/lib/python3.8/site-packages/pandas/core/indexing.py:1745: SettingWithCopyWarning: \n",
      "A value is trying to be set on a copy of a slice from a DataFrame.\n",
      "Try using .loc[row_indexer,col_indexer] = value instead\n",
      "\n",
      "See the caveats in the documentation: https://pandas.pydata.org/pandas-docs/stable/user_guide/indexing.html#returning-a-view-versus-a-copy\n",
      "  isetter(ilocs[0], value)\n",
      "/opt/conda/lib/python3.8/site-packages/pandas/core/indexing.py:1596: SettingWithCopyWarning: \n",
      "A value is trying to be set on a copy of a slice from a DataFrame.\n",
      "Try using .loc[row_indexer,col_indexer] = value instead\n",
      "\n",
      "See the caveats in the documentation: https://pandas.pydata.org/pandas-docs/stable/user_guide/indexing.html#returning-a-view-versus-a-copy\n",
      "  self.obj[key] = _infer_fill_value(value)\n",
      "/opt/conda/lib/python3.8/site-packages/pandas/core/indexing.py:1745: SettingWithCopyWarning: \n",
      "A value is trying to be set on a copy of a slice from a DataFrame.\n",
      "Try using .loc[row_indexer,col_indexer] = value instead\n",
      "\n",
      "See the caveats in the documentation: https://pandas.pydata.org/pandas-docs/stable/user_guide/indexing.html#returning-a-view-versus-a-copy\n",
      "  isetter(ilocs[0], value)\n"
     ]
    }
   ],
   "source": [
    "scored= read_model_score(test,4,3)"
   ]
  },
  {
   "cell_type": "markdown",
   "metadata": {
    "slideshow": {
     "slide_type": "slide"
    }
   },
   "source": [
    "# Thresholding"
   ]
  },
  {
   "cell_type": "code",
   "execution_count": 132,
   "metadata": {
    "slideshow": {
     "slide_type": "fragment"
    }
   },
   "outputs": [],
   "source": [
    "scored['Operating-Stage']= 'Normal'\n",
    "scored.loc[scored['Final Effect RUL'] <=10, 'Operating-Stage']= 'Critical'\n",
    "scored.loc[scored['Final Effect RUL'] < 5, 'Operating-Stage']= 'Super Critical'"
   ]
  },
  {
   "cell_type": "code",
   "execution_count": 133,
   "metadata": {
    "slideshow": {
     "slide_type": "fragment"
    }
   },
   "outputs": [
    {
     "data": {
      "text/plain": [
       "Normal            645\n",
       "Critical           36\n",
       "Super Critical     26\n",
       "Name: Operating-Stage, dtype: int64"
      ]
     },
     "execution_count": 133,
     "metadata": {},
     "output_type": "execute_result"
    }
   ],
   "source": [
    "scored['Operating-Stage'].value_counts()"
   ]
  },
  {
   "cell_type": "code",
   "execution_count": 134,
   "metadata": {
    "slideshow": {
     "slide_type": "skip"
    }
   },
   "outputs": [],
   "source": [
    "scored.sort_values(by=['Final Effect RUL'], inplace= True)"
   ]
  },
  {
   "cell_type": "code",
   "execution_count": 135,
   "metadata": {
    "slideshow": {
     "slide_type": "fragment"
    }
   },
   "outputs": [],
   "source": [
    "sqdrns= ['33d Fighter Wing AETC-58th Fighter Squadron','53d Test and Evaluation Group-31st TE Squadron',\\\n",
    "         '56th Fighter Wing AETC-62nd Fighter Squadron','56th Fighter Wing AETC-61st Fighter Squadron',\\\n",
    "         '56th Fighter Wing AETC-63rd Fighter Squadron','56th Fighter Wing AETC-308th Fighter Squadron']"
   ]
  },
  {
   "cell_type": "code",
   "execution_count": 136,
   "metadata": {
    "slideshow": {
     "slide_type": "skip"
    }
   },
   "outputs": [],
   "source": [
    "random.seed(42)\n",
    "scored['squadron']= np.random.choice(sqdrns, size=len(scored))"
   ]
  },
  {
   "cell_type": "code",
   "execution_count": 137,
   "metadata": {
    "slideshow": {
     "slide_type": "skip"
    }
   },
   "outputs": [],
   "source": [
    "scored.to_csv('failure-predictions.csv',index=True)"
   ]
  },
  {
   "cell_type": "markdown",
   "metadata": {
    "slideshow": {
     "slide_type": "slide"
    }
   },
   "source": [
    "# Scored File"
   ]
  },
  {
   "cell_type": "code",
   "execution_count": 138,
   "metadata": {
    "slideshow": {
     "slide_type": "fragment"
    }
   },
   "outputs": [
    {
     "data": {
      "text/html": [
       "<div>\n",
       "<style scoped>\n",
       "    .dataframe tbody tr th:only-of-type {\n",
       "        vertical-align: middle;\n",
       "    }\n",
       "\n",
       "    .dataframe tbody tr th {\n",
       "        vertical-align: top;\n",
       "    }\n",
       "\n",
       "    .dataframe thead th {\n",
       "        text-align: right;\n",
       "    }\n",
       "</style>\n",
       "<table border=\"1\" class=\"dataframe\">\n",
       "  <thead>\n",
       "    <tr style=\"text-align: right;\">\n",
       "      <th></th>\n",
       "      <th>Fail Mode 1</th>\n",
       "      <th>Fail Mode 2</th>\n",
       "      <th>Fail Mode 3</th>\n",
       "      <th>Fail Mode 4</th>\n",
       "      <th>Final Effect RUL</th>\n",
       "      <th>Operating-Stage</th>\n",
       "      <th>squadron</th>\n",
       "    </tr>\n",
       "    <tr>\n",
       "      <th>unit</th>\n",
       "      <th></th>\n",
       "      <th></th>\n",
       "      <th></th>\n",
       "      <th></th>\n",
       "      <th></th>\n",
       "      <th></th>\n",
       "      <th></th>\n",
       "    </tr>\n",
       "  </thead>\n",
       "  <tbody>\n",
       "    <tr>\n",
       "      <th>1205</th>\n",
       "      <td>0</td>\n",
       "      <td>10</td>\n",
       "      <td>0</td>\n",
       "      <td>9</td>\n",
       "      <td>0</td>\n",
       "      <td>Super Critical</td>\n",
       "      <td>56th Fighter Wing AETC-308th Fighter Squadron</td>\n",
       "    </tr>\n",
       "    <tr>\n",
       "      <th>3203</th>\n",
       "      <td>0</td>\n",
       "      <td>88</td>\n",
       "      <td>18</td>\n",
       "      <td>57</td>\n",
       "      <td>0</td>\n",
       "      <td>Super Critical</td>\n",
       "      <td>53d Test and Evaluation Group-31st TE Squadron</td>\n",
       "    </tr>\n",
       "    <tr>\n",
       "      <th>3169</th>\n",
       "      <td>0</td>\n",
       "      <td>19</td>\n",
       "      <td>0</td>\n",
       "      <td>12</td>\n",
       "      <td>0</td>\n",
       "      <td>Super Critical</td>\n",
       "      <td>56th Fighter Wing AETC-61st Fighter Squadron</td>\n",
       "    </tr>\n",
       "    <tr>\n",
       "      <th>1175</th>\n",
       "      <td>6</td>\n",
       "      <td>43</td>\n",
       "      <td>0</td>\n",
       "      <td>28</td>\n",
       "      <td>0</td>\n",
       "      <td>Super Critical</td>\n",
       "      <td>56th Fighter Wing AETC-63rd Fighter Squadron</td>\n",
       "    </tr>\n",
       "    <tr>\n",
       "      <th>3014</th>\n",
       "      <td>0</td>\n",
       "      <td>39</td>\n",
       "      <td>0</td>\n",
       "      <td>30</td>\n",
       "      <td>0</td>\n",
       "      <td>Super Critical</td>\n",
       "      <td>33d Fighter Wing AETC-58th Fighter Squadron</td>\n",
       "    </tr>\n",
       "    <tr>\n",
       "      <th>...</th>\n",
       "      <td>...</td>\n",
       "      <td>...</td>\n",
       "      <td>...</td>\n",
       "      <td>...</td>\n",
       "      <td>...</td>\n",
       "      <td>...</td>\n",
       "      <td>...</td>\n",
       "    </tr>\n",
       "    <tr>\n",
       "      <th>2077</th>\n",
       "      <td>395</td>\n",
       "      <td>282</td>\n",
       "      <td>116</td>\n",
       "      <td>119</td>\n",
       "      <td>116</td>\n",
       "      <td>Normal</td>\n",
       "      <td>53d Test and Evaluation Group-31st TE Squadron</td>\n",
       "    </tr>\n",
       "    <tr>\n",
       "      <th>3129</th>\n",
       "      <td>183</td>\n",
       "      <td>263</td>\n",
       "      <td>117</td>\n",
       "      <td>145</td>\n",
       "      <td>117</td>\n",
       "      <td>Normal</td>\n",
       "      <td>33d Fighter Wing AETC-58th Fighter Squadron</td>\n",
       "    </tr>\n",
       "    <tr>\n",
       "      <th>3034</th>\n",
       "      <td>211</td>\n",
       "      <td>288</td>\n",
       "      <td>131</td>\n",
       "      <td>164</td>\n",
       "      <td>131</td>\n",
       "      <td>Normal</td>\n",
       "      <td>53d Test and Evaluation Group-31st TE Squadron</td>\n",
       "    </tr>\n",
       "    <tr>\n",
       "      <th>3041</th>\n",
       "      <td>270</td>\n",
       "      <td>315</td>\n",
       "      <td>132</td>\n",
       "      <td>194</td>\n",
       "      <td>132</td>\n",
       "      <td>Normal</td>\n",
       "      <td>33d Fighter Wing AETC-58th Fighter Squadron</td>\n",
       "    </tr>\n",
       "    <tr>\n",
       "      <th>3232</th>\n",
       "      <td>225</td>\n",
       "      <td>344</td>\n",
       "      <td>163</td>\n",
       "      <td>185</td>\n",
       "      <td>163</td>\n",
       "      <td>Normal</td>\n",
       "      <td>33d Fighter Wing AETC-58th Fighter Squadron</td>\n",
       "    </tr>\n",
       "  </tbody>\n",
       "</table>\n",
       "<p>707 rows × 7 columns</p>\n",
       "</div>"
      ],
      "text/plain": [
       "      Fail Mode 1  Fail Mode 2  Fail Mode 3  Fail Mode 4  Final Effect RUL  \\\n",
       "unit                                                                         \n",
       "1205            0           10            0            9                 0   \n",
       "3203            0           88           18           57                 0   \n",
       "3169            0           19            0           12                 0   \n",
       "1175            6           43            0           28                 0   \n",
       "3014            0           39            0           30                 0   \n",
       "...           ...          ...          ...          ...               ...   \n",
       "2077          395          282          116          119               116   \n",
       "3129          183          263          117          145               117   \n",
       "3034          211          288          131          164               131   \n",
       "3041          270          315          132          194               132   \n",
       "3232          225          344          163          185               163   \n",
       "\n",
       "     Operating-Stage                                        squadron  \n",
       "unit                                                                  \n",
       "1205  Super Critical   56th Fighter Wing AETC-308th Fighter Squadron  \n",
       "3203  Super Critical  53d Test and Evaluation Group-31st TE Squadron  \n",
       "3169  Super Critical    56th Fighter Wing AETC-61st Fighter Squadron  \n",
       "1175  Super Critical    56th Fighter Wing AETC-63rd Fighter Squadron  \n",
       "3014  Super Critical     33d Fighter Wing AETC-58th Fighter Squadron  \n",
       "...              ...                                             ...  \n",
       "2077          Normal  53d Test and Evaluation Group-31st TE Squadron  \n",
       "3129          Normal     33d Fighter Wing AETC-58th Fighter Squadron  \n",
       "3034          Normal  53d Test and Evaluation Group-31st TE Squadron  \n",
       "3041          Normal     33d Fighter Wing AETC-58th Fighter Squadron  \n",
       "3232          Normal     33d Fighter Wing AETC-58th Fighter Squadron  \n",
       "\n",
       "[707 rows x 7 columns]"
      ]
     },
     "execution_count": 138,
     "metadata": {},
     "output_type": "execute_result"
    }
   ],
   "source": [
    "scored"
   ]
  },
  {
   "cell_type": "code",
   "execution_count": null,
   "metadata": {},
   "outputs": [],
   "source": []
  }
 ],
 "metadata": {
  "celltoolbar": "Slideshow",
  "kernelspec": {
   "display_name": "Python 3",
   "language": "python",
   "name": "python3"
  },
  "language_info": {
   "codemirror_mode": {
    "name": "ipython",
    "version": 3
   },
   "file_extension": ".py",
   "mimetype": "text/x-python",
   "name": "python",
   "nbconvert_exporter": "python",
   "pygments_lexer": "ipython3",
   "version": "3.8.5"
  }
 },
 "nbformat": 4,
 "nbformat_minor": 4
}
