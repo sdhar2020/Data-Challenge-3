{
 "cells": [
  {
   "cell_type": "code",
   "execution_count": 8,
   "metadata": {
    "slideshow": {
     "slide_type": "skip"
    }
   },
   "outputs": [],
   "source": [
    "import pandas as pd\n",
    "from sklearn.preprocessing import MinMaxScaler\n",
    "from sklearn.metrics import mean_squared_error, explained_variance_score, mean_absolute_error\n",
    "from statsmodels.tsa.seasonal import seasonal_decompose\n",
    "import seaborn as sns\n",
    "import datetime as dt\n",
    "from statistics import stdev\n",
    "from tensorflow import keras\n",
    "from tensorflow.keras.models import Sequential\n",
    "from tensorflow.keras.layers import BatchNormalization\n",
    "from tensorflow.keras.layers import Conv2D\n",
    "from tensorflow.keras.layers import MaxPooling2D\n",
    "from tensorflow.keras.layers import Activation\n",
    "from tensorflow.keras.layers import Dropout\n",
    "from tensorflow.keras.layers import Dense\n",
    "from tensorflow.keras.layers import Flatten\n",
    "from tensorflow.keras.layers import Input\n",
    "from tensorflow.keras.models import Model\n",
    "from IPython.display import clear_output\n",
    "import numpy as np\n",
    "import random\n",
    "random.seed(42)\n",
    "sys_random = random.SystemRandom()\n",
    "import joblib\n",
    "import pickle"
   ]
  },
  {
   "cell_type": "markdown",
   "metadata": {},
   "source": [
    "# RUL Estimation\n",
    "\n",
    "## Deep Learning- Regressor Approach\n",
    "\n",
    "\n",
    "### Matt Mitchell | Sumit Dhar"
   ]
  },
  {
   "cell_type": "code",
   "execution_count": 9,
   "metadata": {
    "slideshow": {
     "slide_type": "skip"
    }
   },
   "outputs": [],
   "source": [
    "def read_files():\n",
    "    train =[]\n",
    "    test =[]\n",
    "    RUL =[]\n",
    "    for i in range(0,4):\n",
    "        train.append(pd.read_csv('train_FD00'+str(i+1)+'.txt', delimiter=\" \", decimal=\".\", header=None))\n",
    "        test.append(pd.read_csv('test_FD00'+str(i+1)+'.txt',  delimiter=\" \", decimal=\".\", header=None))\n",
    "        RUL.append(pd.read_csv('RUL_FD00'+str(i+1)+'.txt',  delimiter=\" \", decimal=\".\", header=None))\n",
    "    return(train, test, RUL)"
   ]
  },
  {
   "cell_type": "code",
   "execution_count": 10,
   "metadata": {
    "slideshow": {
     "slide_type": "skip"
    }
   },
   "outputs": [],
   "source": [
    "def remove_mssng_df(dfs, cols):\n",
    "    cln= []\n",
    "    for df in dfs:\n",
    "        df.drop(df.columns[list(df.columns[df.isnull().sum() > 0])], axis=1, inplace=True)\n",
    "        df.columns = cols\n",
    "        cln.append(df)\n",
    "    return(cln)"
   ]
  },
  {
   "cell_type": "markdown",
   "metadata": {},
   "source": [
    "# Remove Low Variance"
   ]
  },
  {
   "cell_type": "code",
   "execution_count": 11,
   "metadata": {
    "slideshow": {
     "slide_type": "fragment"
    }
   },
   "outputs": [],
   "source": [
    "def remove_low_variance(train, test, threshold = 0.001):\n",
    "    tr=[]\n",
    "    te=[]\n",
    "    var_lsts =[]\n",
    "    for df1, df2 in zip(train, test):\n",
    "        var_lst= list(df1.columns[df1.var()> threshold])\n",
    "        d1= df1.loc[:,var_lst]\n",
    "        d2= df2.loc[:,var_lst]\n",
    "        tr.append(d1)\n",
    "        te.append(d2)\n",
    "        var_lsts.append(var_lst)\n",
    "    return(tr, te, var_lsts)"
   ]
  },
  {
   "cell_type": "markdown",
   "metadata": {
    "slideshow": {
     "slide_type": "slide"
    }
   },
   "source": [
    "# Target Variable\n",
    "\n",
    "- % of Useful Life Expended- ULFrac as proportion of Max Cycles\n",
    "- Cycles not in the set of features\n",
    "- UlFrac = Current Cycles in a engine/ MaxCycles in the Engine\n",
    "- Estimation of Max Cycles = Current Cycle / Estimate of ULFrac\n",
    "- RUL = Estimation of Max Cycles - Current Cycle"
   ]
  },
  {
   "cell_type": "code",
   "execution_count": 12,
   "metadata": {
    "slideshow": {
     "slide_type": "fragment"
    }
   },
   "outputs": [],
   "source": [
    "def add_RULS(dfs):\n",
    "    df1=[]\n",
    "    tr_units = []\n",
    "    for df in dfs:\n",
    "        df = pd.merge(df, df.groupby('unit', as_index=False)['cycles'].agg(['min', 'max']),how='left', on='unit')\n",
    "#         df.rename(columns={\"cycles_x\": \"cycles\", \"cycles_y\": \"maxcycles\"}, inplace=True)\n",
    "#         df['RUL'] = df['maxcycles'] - df['cycles']\n",
    "        df['ULfrac']= df['cycles'].divide(df['max'])\n",
    "        df1.append(df)\n",
    "        tr_units.append(df[['unit', 'cycles']])\n",
    "    return(df1, tr_units)"
   ]
  },
  {
   "cell_type": "markdown",
   "metadata": {
    "slideshow": {
     "slide_type": "slide"
    }
   },
   "source": [
    "# Data Prep\n",
    "- Later time series cycles (> 70% of the life)\n",
    "- Train and validation split\n",
    "- Scaling of Independent variables\n",
    "- Featires > .001 variance\n",
    "- Return all the transformed variables"
   ]
  },
  {
   "cell_type": "code",
   "execution_count": 13,
   "metadata": {
    "slideshow": {
     "slide_type": "slide"
    }
   },
   "outputs": [],
   "source": [
    "def prep_train_data(trains,tr_units, tests,RULs,var_lsts,exclude,target='ULfrac',split=0.3):\n",
    "    data_sets={}\n",
    "    cntr=0\n",
    "    for var_list,train,test, RUL, tr_unit in zip(var_lsts,trains,tests, RULs, tr_units):\n",
    "        # Operations on all training data \n",
    "        cnt= pd.DataFrame(0.7*train.unit.value_counts())\n",
    "        df1= train.merge(cnt, left_on= 'unit', right_index=True)\n",
    "        train= df1.loc[df1.cycles > df1.unit_y]\n",
    "        cnt= pd.DataFrame(0.7*tr_unit.unit.value_counts())\n",
    "        df1= tr_unit.merge(cnt, left_on= 'unit', right_index=True)\n",
    "        tr_unit= df1.loc[df1.cycles > df1.unit_y]\n",
    "        cnt= pd.DataFrame(0.7*test.unit.value_counts())\n",
    "        df1= test.merge(cnt, left_on= 'unit', right_index=True)\n",
    "        test= df1.loc[df1.cycles > df1.unit_y]\n",
    "        features = list(set(var_list).difference(set(exclude)))\n",
    "#         train= train.loc[~(train.cycles == train.maxcycles)]\n",
    "        # fit scaler based on training data\n",
    "        scale_x= train.loc[:,features].values\n",
    "        xscaler = MinMaxScaler()\n",
    "        xscaler.fit(scale_x)\n",
    "        # split between training and validation sets\n",
    "        random.seed(42)\n",
    "        i = int(.3*len(train.unit.unique()))\n",
    "        val_u= random.sample(list(train.unit.unique()), i)\n",
    "#         val_u= sys_random.choices(train.unit.unique(),k= int(split*len(train.unit.unique())))\n",
    "        train_u= set(train.unit.unique()).difference(set(val_u))\n",
    "        tr= train.loc[train['unit'].isin(train_u)]\n",
    "        tr_unit = tr_unit.loc[train['unit'].isin(train_u)]\n",
    "        val = train.loc[train['unit'].isin(val_u)]\n",
    "        tr_x= tr.loc[:,features].values\n",
    "        val_x= val.loc[:,features].values\n",
    "        train_X= xscaler.transform(tr_x)\n",
    "        val_X= xscaler.transform(val_x)\n",
    "        #  training and validation Target variable\n",
    "        train_y= tr.loc[:,target].values\n",
    "        val_y = val.loc[:,target].values\n",
    "        # Scale test data set variables\n",
    "        test_x= test.loc[:,features].values\n",
    "        test_X= xscaler.transform(test_x)\n",
    "        test_u= test[['unit', 'cycles']]\n",
    "        data_sets[cntr]=[train_X,train_y,val_X,val_y,test_X,xscaler,features, RUL, test_u, tr_unit]\n",
    "        cntr +=1\n",
    "    return(data_sets)"
   ]
  },
  {
   "cell_type": "markdown",
   "metadata": {},
   "source": [
    "# Regressor Definition"
   ]
  },
  {
   "cell_type": "code",
   "execution_count": 14,
   "metadata": {
    "slideshow": {
     "slide_type": "fragment"
    }
   },
   "outputs": [],
   "source": [
    "def create_mlp(dim):\n",
    "    # define our MLP network\n",
    "    l1 = int((dim/2)+1)\n",
    "    l2= int(l1/2+1)\n",
    "    model = Sequential()\n",
    "    model.add(Dense(l1, input_dim=dim, activation=\"relu\"))\n",
    "    model.add(Dense(l2, activation=\"relu\"))\n",
    "    model.add(Dense(1, activation=\"linear\"))\n",
    "    return(model)"
   ]
  },
  {
   "cell_type": "code",
   "execution_count": 15,
   "metadata": {
    "slideshow": {
     "slide_type": "fragment"
    }
   },
   "outputs": [],
   "source": [
    "def fit_mlp(trainX, trainY,valX, valY, EPCH= 200, qual_metric= 'mean_squared_error'):\n",
    "    dim = trainX.shape[1]\n",
    "    model = create_mlp(dim)\n",
    "    opt = keras.optimizers.Adam(learning_rate=0.0001)\n",
    "    model.compile(loss=qual_metric, optimizer=opt)\n",
    "    # train the model\n",
    "    print(\"[INFO] training model...\")\n",
    "    model.fit(x=trainX, y=trainY, validation_data=(valX, valY),epochs=EPCH)\n",
    "    return(model)"
   ]
  },
  {
   "cell_type": "markdown",
   "metadata": {
    "slideshow": {
     "slide_type": "slide"
    }
   },
   "source": [
    "# Quality Metrics"
   ]
  },
  {
   "cell_type": "code",
   "execution_count": 16,
   "metadata": {
    "slideshow": {
     "slide_type": "fragment"
    }
   },
   "outputs": [],
   "source": [
    "def quality_metrics(train_X, train_y, tr_unit, model):\n",
    "    ypred= model.predict(train_X).reshape((-1,))\n",
    "    q_metrics = [mean_squared_error(ypred, train_y),explained_variance_score(ypred, train_y),mean_absolute_error(ypred, train_y)]\n",
    "    train_y[train_y==0]=0.00001\n",
    "    ypred[ypred==0]= 0.00001\n",
    "    tr_unit.loc[:,'ULfrac']= train_y\n",
    "    tr_unit.loc[:,'pULfrac']= ypred\n",
    "    tr_unit.loc[:,'RUL']= tr_unit.loc[:,'cycles']/train_y- tr_unit.loc[:,'cycles']\n",
    "    tr_unit.loc[tr_unit.loc[:,'RUL'] <0 , 'RUL']=0\n",
    "    tr_unit.loc[:,'pRUL']= tr_unit.loc[:,'cycles']/ypred- tr_unit.loc[:,'cycles']\n",
    "    tr_unit.loc[tr_unit.loc[:,'pRUL'] <0 , 'pRUL']=0\n",
    "    return([q_metrics, ypred, tr_unit])"
   ]
  },
  {
   "cell_type": "code",
   "execution_count": 86,
   "metadata": {
    "slideshow": {
     "slide_type": "slide"
    }
   },
   "outputs": [],
   "source": [
    "def score_test_mlp(model, test_X, test_u, RUL):\n",
    "    ypred= model.predict(test_X).reshape((-1,))\n",
    "    ypred[ypred==0]= 0.00001\n",
    "    test_u.loc[:,'pMaxCycles']= test_u.loc[:,'cycles']/ypred\n",
    "#     df = pd.DataFrame(np.concatenate([test_u.reshape(-1,1), ypred], axis=1), columns= ['unit','pRUL'])\n",
    "    max_cyles= pd.DataFrame(test_u.groupby('unit')['cycles'].agg('max'))\n",
    "    max_pMaxCycles = pd.DataFrame(test_u.groupby('unit')['pMaxCycles'].agg('max'))\n",
    "    test_out= max_cyles.merge(max_pMaxCycles, left_index= True, right_index= True)\n",
    "    test_out['pRUL']= (test_out.iloc[:,1]- test_out.iloc[:,0]).apply(lambda x: max(x,0)).apply(lambda x: int(x))\n",
    "    \n",
    "#     test_out= max_cyles.merge(max_pMaxCycles, left_index=True, right_index=True, suffixes=('_MaxCycles', '_PredictedMax'))\n",
    "#     test_out= test_out.merge(RUL, left_index= True, right_index= True)\n",
    "#     mse= mean_squared_error(test_out.iloc[:,0], test_out.iloc[:,1])\n",
    "#     mse= None\n",
    "    return([test_out])"
   ]
  },
  {
   "cell_type": "code",
   "execution_count": 36,
   "metadata": {
    "slideshow": {
     "slide_type": "skip"
    }
   },
   "outputs": [],
   "source": [
    "def fit_score_mlp(model_sets, EPCH=20):\n",
    "    fitted_models = {}\n",
    "    k=0\n",
    "    for k, v in model_sets.items():\n",
    "        print('Building & Scoring Set # :',k+1)\n",
    "        train_X= v[0]\n",
    "        train_y= v[1]\n",
    "        val_X= v[2]\n",
    "        val_y= v[3]\n",
    "        test_X= v[4]\n",
    "        xscaler= v[5]\n",
    "        features= v[6]\n",
    "        RUL= v[7]\n",
    "        test_u= v[8]\n",
    "        tr_unit= v[9]\n",
    "        model= fit_mlp(train_X, train_y,val_X, val_y, EPCH)\n",
    "        score_values= quality_metrics(train_X, train_y, tr_unit, model)\n",
    "        test_scr= score_test_mlp(model, test_X, test_u, RUL)\n",
    "        fitted_models[k]=[model, score_values, test_scr]\n",
    "        clear_output(wait=True)\n",
    "        k+=1\n",
    "    return(fitted_models)"
   ]
  },
  {
   "cell_type": "markdown",
   "metadata": {},
   "source": [
    "# Training The Model"
   ]
  },
  {
   "cell_type": "code",
   "execution_count": 87,
   "metadata": {},
   "outputs": [],
   "source": [
    "cols = ['unit', 'cycles', 'op_setting1', 'op_setting2', 'op_setting3', 's1', 's2', 's3', 's4', 's5', 's6', 's7', 's8', 's9', 's10', 's11', 's12', 's13', 's14', 's15', 's16', 's17', 's18', 's19', 's20', 's21']"
   ]
  },
  {
   "cell_type": "code",
   "execution_count": 88,
   "metadata": {},
   "outputs": [],
   "source": [
    "exclude = ['unit','cycles','maxcycles', 'RUL']"
   ]
  },
  {
   "cell_type": "code",
   "execution_count": 89,
   "metadata": {
    "slideshow": {
     "slide_type": "skip"
    }
   },
   "outputs": [],
   "source": [
    "trains, tests, RULs= read_files()\n",
    "trains = remove_mssng_df(trains, cols)\n",
    "RULs = remove_mssng_df(RULs, ['rul'])\n",
    "tests = remove_mssng_df(tests, cols)\n",
    "trains, tests, var_lsts = remove_low_variance(trains, tests, 0.01)\n",
    "trains, tr_units= add_RULS(trains)"
   ]
  },
  {
   "cell_type": "code",
   "execution_count": 90,
   "metadata": {
    "slideshow": {
     "slide_type": "skip"
    }
   },
   "outputs": [],
   "source": [
    "model_sets = prep_train_data(trains,tr_units,tests,RULs,var_lsts,exclude)"
   ]
  },
  {
   "cell_type": "code",
   "execution_count": 91,
   "metadata": {
    "slideshow": {
     "slide_type": "skip"
    }
   },
   "outputs": [
    {
     "name": "stdout",
     "output_type": "stream",
     "text": [
      "Building & Scoring Set # : 4\n",
      "[INFO] training model...\n",
      "Epoch 1/400\n",
      "402/402 [==============================] - 0s 1ms/step - loss: 0.2441 - val_loss: 0.0239\n",
      "Epoch 2/400\n",
      "402/402 [==============================] - 0s 1ms/step - loss: 0.0104 - val_loss: 0.0074\n",
      "Epoch 3/400\n",
      "402/402 [==============================] - 0s 1ms/step - loss: 0.0070 - val_loss: 0.0067\n",
      "Epoch 4/400\n",
      "402/402 [==============================] - 0s 1ms/step - loss: 0.0066 - val_loss: 0.0065\n",
      "Epoch 5/400\n",
      "402/402 [==============================] - 0s 1ms/step - loss: 0.0065 - val_loss: 0.0065\n",
      "Epoch 6/400\n",
      "402/402 [==============================] - 0s 1ms/step - loss: 0.0065 - val_loss: 0.0064\n",
      "Epoch 7/400\n",
      "402/402 [==============================] - 0s 1ms/step - loss: 0.0064 - val_loss: 0.0063\n",
      "Epoch 8/400\n",
      "402/402 [==============================] - 0s 1ms/step - loss: 0.0063 - val_loss: 0.0063\n",
      "Epoch 9/400\n",
      "402/402 [==============================] - 0s 1ms/step - loss: 0.0062 - val_loss: 0.0061\n",
      "Epoch 10/400\n",
      "402/402 [==============================] - 0s 1ms/step - loss: 0.0061 - val_loss: 0.0060\n",
      "Epoch 11/400\n",
      "402/402 [==============================] - 0s 1ms/step - loss: 0.0060 - val_loss: 0.0059\n",
      "Epoch 12/400\n",
      "402/402 [==============================] - 0s 1ms/step - loss: 0.0060 - val_loss: 0.0059\n",
      "Epoch 13/400\n",
      "402/402 [==============================] - 0s 1ms/step - loss: 0.0059 - val_loss: 0.0059\n",
      "Epoch 14/400\n",
      "402/402 [==============================] - 0s 1ms/step - loss: 0.0058 - val_loss: 0.0057\n",
      "Epoch 15/400\n",
      "402/402 [==============================] - 0s 1ms/step - loss: 0.0058 - val_loss: 0.0057\n",
      "Epoch 16/400\n",
      "402/402 [==============================] - 0s 1ms/step - loss: 0.0058 - val_loss: 0.0056\n",
      "Epoch 17/400\n",
      "402/402 [==============================] - 0s 1ms/step - loss: 0.0057 - val_loss: 0.0056\n",
      "Epoch 18/400\n",
      "402/402 [==============================] - 0s 1ms/step - loss: 0.0056 - val_loss: 0.0055\n",
      "Epoch 19/400\n",
      "402/402 [==============================] - 0s 1ms/step - loss: 0.0056 - val_loss: 0.0055\n",
      "Epoch 20/400\n",
      "402/402 [==============================] - 0s 1ms/step - loss: 0.0055 - val_loss: 0.0054\n",
      "Epoch 21/400\n",
      "402/402 [==============================] - 0s 1ms/step - loss: 0.0054 - val_loss: 0.0053\n",
      "Epoch 22/400\n",
      "402/402 [==============================] - 0s 1ms/step - loss: 0.0054 - val_loss: 0.0052\n",
      "Epoch 23/400\n",
      "402/402 [==============================] - 0s 1ms/step - loss: 0.0053 - val_loss: 0.0052\n",
      "Epoch 24/400\n",
      "402/402 [==============================] - 0s 1ms/step - loss: 0.0053 - val_loss: 0.0051\n",
      "Epoch 25/400\n",
      "402/402 [==============================] - 0s 1ms/step - loss: 0.0052 - val_loss: 0.0052\n",
      "Epoch 26/400\n",
      "402/402 [==============================] - 0s 1ms/step - loss: 0.0052 - val_loss: 0.0050\n",
      "Epoch 27/400\n",
      "402/402 [==============================] - 0s 1ms/step - loss: 0.0051 - val_loss: 0.0050\n",
      "Epoch 28/400\n",
      "402/402 [==============================] - 0s 1ms/step - loss: 0.0051 - val_loss: 0.0049\n",
      "Epoch 29/400\n",
      "402/402 [==============================] - 0s 1ms/step - loss: 0.0050 - val_loss: 0.0049\n",
      "Epoch 30/400\n",
      "402/402 [==============================] - 0s 1ms/step - loss: 0.0049 - val_loss: 0.0048\n",
      "Epoch 31/400\n",
      "402/402 [==============================] - 0s 1ms/step - loss: 0.0049 - val_loss: 0.0048\n",
      "Epoch 32/400\n",
      "402/402 [==============================] - 0s 1ms/step - loss: 0.0048 - val_loss: 0.0047\n",
      "Epoch 33/400\n",
      "402/402 [==============================] - 0s 1ms/step - loss: 0.0048 - val_loss: 0.0047\n",
      "Epoch 34/400\n",
      "402/402 [==============================] - 0s 1ms/step - loss: 0.0047 - val_loss: 0.0046\n",
      "Epoch 35/400\n",
      "402/402 [==============================] - 0s 1ms/step - loss: 0.0047 - val_loss: 0.0045\n",
      "Epoch 36/400\n",
      "402/402 [==============================] - 0s 1ms/step - loss: 0.0046 - val_loss: 0.0045\n",
      "Epoch 37/400\n",
      "402/402 [==============================] - 0s 1ms/step - loss: 0.0046 - val_loss: 0.0044\n",
      "Epoch 38/400\n",
      "402/402 [==============================] - 0s 1ms/step - loss: 0.0045 - val_loss: 0.0044\n",
      "Epoch 39/400\n",
      "402/402 [==============================] - 0s 1ms/step - loss: 0.0045 - val_loss: 0.0044\n",
      "Epoch 40/400\n",
      "402/402 [==============================] - 0s 1ms/step - loss: 0.0044 - val_loss: 0.0043\n",
      "Epoch 41/400\n",
      "402/402 [==============================] - 0s 1ms/step - loss: 0.0044 - val_loss: 0.0042\n",
      "Epoch 42/400\n",
      "402/402 [==============================] - 0s 1ms/step - loss: 0.0043 - val_loss: 0.0043\n",
      "Epoch 43/400\n",
      "402/402 [==============================] - 0s 1ms/step - loss: 0.0043 - val_loss: 0.0042\n",
      "Epoch 44/400\n",
      "402/402 [==============================] - 0s 1ms/step - loss: 0.0042 - val_loss: 0.0041\n",
      "Epoch 45/400\n",
      "402/402 [==============================] - 0s 1ms/step - loss: 0.0042 - val_loss: 0.0041\n",
      "Epoch 46/400\n",
      "402/402 [==============================] - 0s 1ms/step - loss: 0.0042 - val_loss: 0.0040\n",
      "Epoch 47/400\n",
      "402/402 [==============================] - 0s 1ms/step - loss: 0.0041 - val_loss: 0.0040\n",
      "Epoch 48/400\n",
      "402/402 [==============================] - 0s 1ms/step - loss: 0.0041 - val_loss: 0.0040\n",
      "Epoch 49/400\n",
      "402/402 [==============================] - 0s 1ms/step - loss: 0.0040 - val_loss: 0.0039\n",
      "Epoch 50/400\n",
      "402/402 [==============================] - 0s 1ms/step - loss: 0.0040 - val_loss: 0.0039\n",
      "Epoch 51/400\n",
      "402/402 [==============================] - 0s 1ms/step - loss: 0.0040 - val_loss: 0.0038\n",
      "Epoch 52/400\n",
      "402/402 [==============================] - 0s 1ms/step - loss: 0.0039 - val_loss: 0.0039\n",
      "Epoch 53/400\n",
      "402/402 [==============================] - 0s 1ms/step - loss: 0.0039 - val_loss: 0.0038\n",
      "Epoch 54/400\n",
      "402/402 [==============================] - 0s 1ms/step - loss: 0.0039 - val_loss: 0.0039\n",
      "Epoch 55/400\n",
      "402/402 [==============================] - 0s 1ms/step - loss: 0.0039 - val_loss: 0.0038\n",
      "Epoch 56/400\n",
      "402/402 [==============================] - 0s 1ms/step - loss: 0.0038 - val_loss: 0.0037\n",
      "Epoch 57/400\n",
      "402/402 [==============================] - 0s 1ms/step - loss: 0.0038 - val_loss: 0.0037\n",
      "Epoch 58/400\n",
      "402/402 [==============================] - 0s 1ms/step - loss: 0.0038 - val_loss: 0.0037\n",
      "Epoch 59/400\n",
      "402/402 [==============================] - 0s 1ms/step - loss: 0.0038 - val_loss: 0.0037\n",
      "Epoch 60/400\n",
      "402/402 [==============================] - 0s 1ms/step - loss: 0.0037 - val_loss: 0.0036\n",
      "Epoch 61/400\n",
      "402/402 [==============================] - 0s 1ms/step - loss: 0.0037 - val_loss: 0.0036\n",
      "Epoch 62/400\n",
      "402/402 [==============================] - 0s 1ms/step - loss: 0.0037 - val_loss: 0.0036\n",
      "Epoch 63/400\n",
      "402/402 [==============================] - 0s 1ms/step - loss: 0.0036 - val_loss: 0.0035\n",
      "Epoch 64/400\n",
      "402/402 [==============================] - 0s 1ms/step - loss: 0.0036 - val_loss: 0.0036\n",
      "Epoch 65/400\n",
      "402/402 [==============================] - 0s 1ms/step - loss: 0.0036 - val_loss: 0.0035\n",
      "Epoch 66/400\n",
      "402/402 [==============================] - 0s 1ms/step - loss: 0.0036 - val_loss: 0.0035\n",
      "Epoch 67/400\n",
      "402/402 [==============================] - 0s 1ms/step - loss: 0.0035 - val_loss: 0.0035\n",
      "Epoch 68/400\n",
      "402/402 [==============================] - 0s 1ms/step - loss: 0.0035 - val_loss: 0.0035\n",
      "Epoch 69/400\n",
      "402/402 [==============================] - 0s 1ms/step - loss: 0.0035 - val_loss: 0.0034\n",
      "Epoch 70/400\n",
      "402/402 [==============================] - 0s 1ms/step - loss: 0.0035 - val_loss: 0.0034\n",
      "Epoch 71/400\n",
      "402/402 [==============================] - 0s 1ms/step - loss: 0.0035 - val_loss: 0.0034\n",
      "Epoch 72/400\n",
      "402/402 [==============================] - 0s 1ms/step - loss: 0.0034 - val_loss: 0.0034\n",
      "Epoch 73/400\n",
      "402/402 [==============================] - 0s 1ms/step - loss: 0.0034 - val_loss: 0.0035\n",
      "Epoch 74/400\n",
      "402/402 [==============================] - 0s 1ms/step - loss: 0.0034 - val_loss: 0.0034\n",
      "Epoch 75/400\n",
      "402/402 [==============================] - 0s 1ms/step - loss: 0.0034 - val_loss: 0.0033\n",
      "Epoch 76/400\n",
      "402/402 [==============================] - 0s 1ms/step - loss: 0.0034 - val_loss: 0.0033\n",
      "Epoch 77/400\n",
      "402/402 [==============================] - 0s 1ms/step - loss: 0.0034 - val_loss: 0.0033\n",
      "Epoch 78/400\n",
      "402/402 [==============================] - 0s 1ms/step - loss: 0.0033 - val_loss: 0.0034\n",
      "Epoch 79/400\n",
      "402/402 [==============================] - 0s 1ms/step - loss: 0.0033 - val_loss: 0.0033\n",
      "Epoch 80/400\n",
      "402/402 [==============================] - 0s 1ms/step - loss: 0.0033 - val_loss: 0.0033\n",
      "Epoch 81/400\n",
      "402/402 [==============================] - 0s 1ms/step - loss: 0.0033 - val_loss: 0.0033\n",
      "Epoch 82/400\n",
      "402/402 [==============================] - 0s 1ms/step - loss: 0.0033 - val_loss: 0.0032\n",
      "Epoch 83/400\n",
      "402/402 [==============================] - 0s 1ms/step - loss: 0.0033 - val_loss: 0.0032\n",
      "Epoch 84/400\n",
      "402/402 [==============================] - 0s 1ms/step - loss: 0.0033 - val_loss: 0.0032\n",
      "Epoch 85/400\n",
      "402/402 [==============================] - 0s 1ms/step - loss: 0.0032 - val_loss: 0.0033\n",
      "Epoch 86/400\n",
      "402/402 [==============================] - 0s 1ms/step - loss: 0.0032 - val_loss: 0.0032\n",
      "Epoch 87/400\n",
      "402/402 [==============================] - 0s 1ms/step - loss: 0.0032 - val_loss: 0.0032\n",
      "Epoch 88/400\n",
      "402/402 [==============================] - 0s 1ms/step - loss: 0.0032 - val_loss: 0.0032\n",
      "Epoch 89/400\n",
      "402/402 [==============================] - 0s 1ms/step - loss: 0.0032 - val_loss: 0.0032\n",
      "Epoch 90/400\n",
      "402/402 [==============================] - 0s 1ms/step - loss: 0.0032 - val_loss: 0.0032\n",
      "Epoch 91/400\n",
      "402/402 [==============================] - 0s 1ms/step - loss: 0.0032 - val_loss: 0.0031\n",
      "Epoch 92/400\n",
      "402/402 [==============================] - 0s 1ms/step - loss: 0.0032 - val_loss: 0.0031\n",
      "Epoch 93/400\n",
      "402/402 [==============================] - 0s 1ms/step - loss: 0.0031 - val_loss: 0.0031\n",
      "Epoch 94/400\n",
      "402/402 [==============================] - 0s 1ms/step - loss: 0.0031 - val_loss: 0.0031\n",
      "Epoch 95/400\n",
      "402/402 [==============================] - 0s 1ms/step - loss: 0.0031 - val_loss: 0.0031\n",
      "Epoch 96/400\n",
      "402/402 [==============================] - 0s 1ms/step - loss: 0.0031 - val_loss: 0.0031\n",
      "Epoch 97/400\n",
      "402/402 [==============================] - 0s 1ms/step - loss: 0.0031 - val_loss: 0.0031\n",
      "Epoch 98/400\n",
      "402/402 [==============================] - 0s 1ms/step - loss: 0.0031 - val_loss: 0.0031\n",
      "Epoch 99/400\n",
      "402/402 [==============================] - 0s 1ms/step - loss: 0.0031 - val_loss: 0.0031\n",
      "Epoch 100/400\n",
      "402/402 [==============================] - 0s 1ms/step - loss: 0.0031 - val_loss: 0.0030\n",
      "Epoch 101/400\n",
      "402/402 [==============================] - 0s 1ms/step - loss: 0.0030 - val_loss: 0.0030\n",
      "Epoch 102/400\n",
      "402/402 [==============================] - 0s 1ms/step - loss: 0.0030 - val_loss: 0.0031\n",
      "Epoch 103/400\n",
      "402/402 [==============================] - 0s 1ms/step - loss: 0.0030 - val_loss: 0.0030\n",
      "Epoch 104/400\n",
      "402/402 [==============================] - 0s 1ms/step - loss: 0.0030 - val_loss: 0.0030\n",
      "Epoch 105/400\n",
      "402/402 [==============================] - 0s 1ms/step - loss: 0.0030 - val_loss: 0.0030\n",
      "Epoch 106/400\n",
      "402/402 [==============================] - 0s 1ms/step - loss: 0.0030 - val_loss: 0.0030\n",
      "Epoch 107/400\n",
      "402/402 [==============================] - 0s 1ms/step - loss: 0.0030 - val_loss: 0.0030\n",
      "Epoch 108/400\n",
      "402/402 [==============================] - 0s 1ms/step - loss: 0.0030 - val_loss: 0.0030\n",
      "Epoch 109/400\n",
      "402/402 [==============================] - 0s 1ms/step - loss: 0.0030 - val_loss: 0.0030\n",
      "Epoch 110/400\n",
      "402/402 [==============================] - 0s 1ms/step - loss: 0.0030 - val_loss: 0.0030\n",
      "Epoch 111/400\n",
      "402/402 [==============================] - 0s 1ms/step - loss: 0.0030 - val_loss: 0.0030\n",
      "Epoch 112/400\n",
      "402/402 [==============================] - 0s 1ms/step - loss: 0.0030 - val_loss: 0.0030\n",
      "Epoch 113/400\n",
      "402/402 [==============================] - 0s 1ms/step - loss: 0.0029 - val_loss: 0.0030\n",
      "Epoch 114/400\n",
      "402/402 [==============================] - 0s 1ms/step - loss: 0.0029 - val_loss: 0.0029\n",
      "Epoch 115/400\n",
      "402/402 [==============================] - 0s 1ms/step - loss: 0.0029 - val_loss: 0.0029\n",
      "Epoch 116/400\n",
      "402/402 [==============================] - 0s 1ms/step - loss: 0.0029 - val_loss: 0.0029\n",
      "Epoch 117/400\n",
      "402/402 [==============================] - 0s 1ms/step - loss: 0.0029 - val_loss: 0.0029\n",
      "Epoch 118/400\n",
      "402/402 [==============================] - 0s 1ms/step - loss: 0.0029 - val_loss: 0.0029\n",
      "Epoch 119/400\n",
      "402/402 [==============================] - 0s 1ms/step - loss: 0.0029 - val_loss: 0.0029\n",
      "Epoch 120/400\n",
      "402/402 [==============================] - 0s 1ms/step - loss: 0.0029 - val_loss: 0.0030\n",
      "Epoch 121/400\n",
      "402/402 [==============================] - 0s 1ms/step - loss: 0.0029 - val_loss: 0.0029\n",
      "Epoch 122/400\n",
      "402/402 [==============================] - 0s 1ms/step - loss: 0.0029 - val_loss: 0.0029\n",
      "Epoch 123/400\n",
      "402/402 [==============================] - 0s 1ms/step - loss: 0.0029 - val_loss: 0.0029\n",
      "Epoch 124/400\n",
      "402/402 [==============================] - 0s 1ms/step - loss: 0.0029 - val_loss: 0.0029\n",
      "Epoch 125/400\n",
      "402/402 [==============================] - 0s 1ms/step - loss: 0.0029 - val_loss: 0.0029\n",
      "Epoch 126/400\n",
      "402/402 [==============================] - 0s 1ms/step - loss: 0.0029 - val_loss: 0.0029\n",
      "Epoch 127/400\n",
      "402/402 [==============================] - 0s 1ms/step - loss: 0.0028 - val_loss: 0.0029\n",
      "Epoch 128/400\n",
      "402/402 [==============================] - 0s 1ms/step - loss: 0.0029 - val_loss: 0.0029\n",
      "Epoch 129/400\n",
      "402/402 [==============================] - 0s 1ms/step - loss: 0.0028 - val_loss: 0.0029\n",
      "Epoch 130/400\n",
      "402/402 [==============================] - 0s 1ms/step - loss: 0.0028 - val_loss: 0.0029\n",
      "Epoch 131/400\n",
      "402/402 [==============================] - 0s 1ms/step - loss: 0.0028 - val_loss: 0.0028\n",
      "Epoch 132/400\n",
      "402/402 [==============================] - 0s 1ms/step - loss: 0.0028 - val_loss: 0.0029\n",
      "Epoch 133/400\n",
      "402/402 [==============================] - 0s 1ms/step - loss: 0.0028 - val_loss: 0.0029\n",
      "Epoch 134/400\n",
      "402/402 [==============================] - 0s 1ms/step - loss: 0.0028 - val_loss: 0.0028\n",
      "Epoch 135/400\n",
      "402/402 [==============================] - 0s 1ms/step - loss: 0.0028 - val_loss: 0.0028\n",
      "Epoch 136/400\n",
      "402/402 [==============================] - 0s 1ms/step - loss: 0.0028 - val_loss: 0.0028\n",
      "Epoch 137/400\n",
      "402/402 [==============================] - 0s 1ms/step - loss: 0.0028 - val_loss: 0.0029\n",
      "Epoch 138/400\n",
      "402/402 [==============================] - 0s 1ms/step - loss: 0.0028 - val_loss: 0.0029\n",
      "Epoch 139/400\n",
      "402/402 [==============================] - 0s 1ms/step - loss: 0.0028 - val_loss: 0.0028\n",
      "Epoch 140/400\n",
      "402/402 [==============================] - 0s 1ms/step - loss: 0.0028 - val_loss: 0.0028\n",
      "Epoch 141/400\n",
      "402/402 [==============================] - 0s 1ms/step - loss: 0.0028 - val_loss: 0.0028\n",
      "Epoch 142/400\n",
      "402/402 [==============================] - 0s 1ms/step - loss: 0.0028 - val_loss: 0.0028\n",
      "Epoch 143/400\n",
      "402/402 [==============================] - 0s 1ms/step - loss: 0.0028 - val_loss: 0.0028\n",
      "Epoch 144/400\n",
      "402/402 [==============================] - 0s 1ms/step - loss: 0.0028 - val_loss: 0.0028\n",
      "Epoch 145/400\n",
      "402/402 [==============================] - 0s 1ms/step - loss: 0.0028 - val_loss: 0.0028\n",
      "Epoch 146/400\n",
      "402/402 [==============================] - 0s 1ms/step - loss: 0.0027 - val_loss: 0.0028\n",
      "Epoch 147/400\n",
      "402/402 [==============================] - 0s 1ms/step - loss: 0.0028 - val_loss: 0.0028\n",
      "Epoch 148/400\n",
      "402/402 [==============================] - 0s 1ms/step - loss: 0.0027 - val_loss: 0.0028\n",
      "Epoch 149/400\n",
      "402/402 [==============================] - 0s 1ms/step - loss: 0.0027 - val_loss: 0.0028\n",
      "Epoch 150/400\n",
      "402/402 [==============================] - 0s 1ms/step - loss: 0.0027 - val_loss: 0.0029\n",
      "Epoch 151/400\n",
      "402/402 [==============================] - 0s 1ms/step - loss: 0.0027 - val_loss: 0.0028\n",
      "Epoch 152/400\n",
      "402/402 [==============================] - 0s 1ms/step - loss: 0.0027 - val_loss: 0.0028\n",
      "Epoch 153/400\n",
      "402/402 [==============================] - 0s 1ms/step - loss: 0.0027 - val_loss: 0.0027\n",
      "Epoch 154/400\n",
      "402/402 [==============================] - 0s 1ms/step - loss: 0.0027 - val_loss: 0.0028\n",
      "Epoch 155/400\n",
      "402/402 [==============================] - 0s 1ms/step - loss: 0.0027 - val_loss: 0.0028\n",
      "Epoch 156/400\n",
      "402/402 [==============================] - 0s 1ms/step - loss: 0.0027 - val_loss: 0.0029\n",
      "Epoch 157/400\n",
      "402/402 [==============================] - 0s 1ms/step - loss: 0.0027 - val_loss: 0.0028\n",
      "Epoch 158/400\n",
      "402/402 [==============================] - 0s 1ms/step - loss: 0.0027 - val_loss: 0.0027\n",
      "Epoch 159/400\n",
      "402/402 [==============================] - 0s 1ms/step - loss: 0.0027 - val_loss: 0.0027\n",
      "Epoch 160/400\n",
      "402/402 [==============================] - 0s 1ms/step - loss: 0.0027 - val_loss: 0.0027\n",
      "Epoch 161/400\n",
      "402/402 [==============================] - 0s 1ms/step - loss: 0.0027 - val_loss: 0.0027\n",
      "Epoch 162/400\n",
      "402/402 [==============================] - 0s 1ms/step - loss: 0.0027 - val_loss: 0.0027\n",
      "Epoch 163/400\n",
      "402/402 [==============================] - 0s 1ms/step - loss: 0.0027 - val_loss: 0.0027\n",
      "Epoch 164/400\n",
      "402/402 [==============================] - 0s 1ms/step - loss: 0.0027 - val_loss: 0.0027\n",
      "Epoch 165/400\n",
      "402/402 [==============================] - 0s 1ms/step - loss: 0.0027 - val_loss: 0.0027\n",
      "Epoch 166/400\n",
      "402/402 [==============================] - 0s 1ms/step - loss: 0.0027 - val_loss: 0.0027\n",
      "Epoch 167/400\n",
      "402/402 [==============================] - 0s 1ms/step - loss: 0.0027 - val_loss: 0.0027\n",
      "Epoch 168/400\n",
      "402/402 [==============================] - 0s 1ms/step - loss: 0.0027 - val_loss: 0.0028\n",
      "Epoch 169/400\n",
      "402/402 [==============================] - 0s 1ms/step - loss: 0.0027 - val_loss: 0.0027\n",
      "Epoch 170/400\n",
      "402/402 [==============================] - 0s 1ms/step - loss: 0.0027 - val_loss: 0.0027\n",
      "Epoch 171/400\n",
      "402/402 [==============================] - 0s 1ms/step - loss: 0.0027 - val_loss: 0.0027\n",
      "Epoch 172/400\n",
      "402/402 [==============================] - 0s 1ms/step - loss: 0.0027 - val_loss: 0.0027\n",
      "Epoch 173/400\n",
      "402/402 [==============================] - 0s 1ms/step - loss: 0.0027 - val_loss: 0.0027\n",
      "Epoch 174/400\n",
      "402/402 [==============================] - 0s 1ms/step - loss: 0.0027 - val_loss: 0.0027\n",
      "Epoch 175/400\n",
      "402/402 [==============================] - 0s 1ms/step - loss: 0.0026 - val_loss: 0.0027\n",
      "Epoch 176/400\n",
      "402/402 [==============================] - 0s 1ms/step - loss: 0.0027 - val_loss: 0.0027\n",
      "Epoch 177/400\n",
      "402/402 [==============================] - 0s 1ms/step - loss: 0.0026 - val_loss: 0.0027\n",
      "Epoch 178/400\n",
      "402/402 [==============================] - 0s 1ms/step - loss: 0.0027 - val_loss: 0.0027\n",
      "Epoch 179/400\n",
      "402/402 [==============================] - 0s 1ms/step - loss: 0.0027 - val_loss: 0.0027\n",
      "Epoch 180/400\n",
      "402/402 [==============================] - 0s 1ms/step - loss: 0.0026 - val_loss: 0.0027\n",
      "Epoch 181/400\n",
      "402/402 [==============================] - 0s 1ms/step - loss: 0.0026 - val_loss: 0.0027\n",
      "Epoch 182/400\n",
      "402/402 [==============================] - 0s 1ms/step - loss: 0.0026 - val_loss: 0.0028\n",
      "Epoch 183/400\n",
      "402/402 [==============================] - 0s 1ms/step - loss: 0.0026 - val_loss: 0.0027\n",
      "Epoch 184/400\n",
      "402/402 [==============================] - 0s 1ms/step - loss: 0.0026 - val_loss: 0.0027\n",
      "Epoch 185/400\n",
      "402/402 [==============================] - 0s 1ms/step - loss: 0.0026 - val_loss: 0.0027\n",
      "Epoch 186/400\n",
      "402/402 [==============================] - 0s 1ms/step - loss: 0.0026 - val_loss: 0.0027\n",
      "Epoch 187/400\n",
      "402/402 [==============================] - 0s 1ms/step - loss: 0.0026 - val_loss: 0.0026\n",
      "Epoch 188/400\n",
      "402/402 [==============================] - 0s 1ms/step - loss: 0.0026 - val_loss: 0.0027\n",
      "Epoch 189/400\n",
      "402/402 [==============================] - 0s 1ms/step - loss: 0.0026 - val_loss: 0.0026\n",
      "Epoch 190/400\n",
      "402/402 [==============================] - 0s 1ms/step - loss: 0.0026 - val_loss: 0.0027\n",
      "Epoch 191/400\n",
      "402/402 [==============================] - 0s 1ms/step - loss: 0.0026 - val_loss: 0.0026\n",
      "Epoch 192/400\n",
      "402/402 [==============================] - 0s 1ms/step - loss: 0.0026 - val_loss: 0.0027\n",
      "Epoch 193/400\n",
      "402/402 [==============================] - 0s 1ms/step - loss: 0.0026 - val_loss: 0.0027\n",
      "Epoch 194/400\n",
      "402/402 [==============================] - 0s 1ms/step - loss: 0.0026 - val_loss: 0.0027\n",
      "Epoch 195/400\n",
      "402/402 [==============================] - 0s 1ms/step - loss: 0.0026 - val_loss: 0.0026\n",
      "Epoch 196/400\n",
      "402/402 [==============================] - 0s 1ms/step - loss: 0.0026 - val_loss: 0.0026\n",
      "Epoch 197/400\n",
      "402/402 [==============================] - 0s 1ms/step - loss: 0.0026 - val_loss: 0.0026\n",
      "Epoch 198/400\n",
      "402/402 [==============================] - 0s 1ms/step - loss: 0.0026 - val_loss: 0.0026\n",
      "Epoch 199/400\n",
      "402/402 [==============================] - 0s 1ms/step - loss: 0.0026 - val_loss: 0.0027\n",
      "Epoch 200/400\n",
      "402/402 [==============================] - 0s 1ms/step - loss: 0.0026 - val_loss: 0.0026\n",
      "Epoch 201/400\n",
      "402/402 [==============================] - 0s 1ms/step - loss: 0.0026 - val_loss: 0.0026\n",
      "Epoch 202/400\n",
      "402/402 [==============================] - 0s 1ms/step - loss: 0.0026 - val_loss: 0.0027\n",
      "Epoch 203/400\n",
      "402/402 [==============================] - 0s 1ms/step - loss: 0.0026 - val_loss: 0.0027\n",
      "Epoch 204/400\n",
      "402/402 [==============================] - 0s 1ms/step - loss: 0.0026 - val_loss: 0.0026\n",
      "Epoch 205/400\n",
      "402/402 [==============================] - 0s 1ms/step - loss: 0.0026 - val_loss: 0.0026\n",
      "Epoch 206/400\n",
      "402/402 [==============================] - 0s 1ms/step - loss: 0.0026 - val_loss: 0.0026\n",
      "Epoch 207/400\n",
      "402/402 [==============================] - 0s 1ms/step - loss: 0.0026 - val_loss: 0.0026\n",
      "Epoch 208/400\n",
      "402/402 [==============================] - 0s 1ms/step - loss: 0.0026 - val_loss: 0.0026\n",
      "Epoch 209/400\n",
      "402/402 [==============================] - 0s 1ms/step - loss: 0.0026 - val_loss: 0.0026\n",
      "Epoch 210/400\n",
      "402/402 [==============================] - 0s 1ms/step - loss: 0.0026 - val_loss: 0.0026\n",
      "Epoch 211/400\n",
      "402/402 [==============================] - 0s 1ms/step - loss: 0.0026 - val_loss: 0.0026\n",
      "Epoch 212/400\n",
      "402/402 [==============================] - 0s 1ms/step - loss: 0.0026 - val_loss: 0.0026\n",
      "Epoch 213/400\n",
      "402/402 [==============================] - 0s 1ms/step - loss: 0.0026 - val_loss: 0.0026\n",
      "Epoch 214/400\n",
      "402/402 [==============================] - 0s 1ms/step - loss: 0.0026 - val_loss: 0.0026\n",
      "Epoch 215/400\n",
      "402/402 [==============================] - 0s 1ms/step - loss: 0.0026 - val_loss: 0.0027\n",
      "Epoch 216/400\n",
      "402/402 [==============================] - 0s 1ms/step - loss: 0.0026 - val_loss: 0.0027\n",
      "Epoch 217/400\n",
      "402/402 [==============================] - 0s 1ms/step - loss: 0.0026 - val_loss: 0.0026\n",
      "Epoch 218/400\n",
      "402/402 [==============================] - 0s 1ms/step - loss: 0.0026 - val_loss: 0.0026\n",
      "Epoch 219/400\n",
      "402/402 [==============================] - 0s 1ms/step - loss: 0.0026 - val_loss: 0.0026\n",
      "Epoch 220/400\n",
      "402/402 [==============================] - 0s 1ms/step - loss: 0.0026 - val_loss: 0.0026\n",
      "Epoch 221/400\n",
      "402/402 [==============================] - 0s 1ms/step - loss: 0.0026 - val_loss: 0.0026\n",
      "Epoch 222/400\n",
      "402/402 [==============================] - 0s 1ms/step - loss: 0.0025 - val_loss: 0.0026\n",
      "Epoch 223/400\n",
      "402/402 [==============================] - 0s 1ms/step - loss: 0.0026 - val_loss: 0.0026\n",
      "Epoch 224/400\n",
      "402/402 [==============================] - 0s 1ms/step - loss: 0.0025 - val_loss: 0.0026\n",
      "Epoch 225/400\n",
      "402/402 [==============================] - 0s 1ms/step - loss: 0.0025 - val_loss: 0.0027\n",
      "Epoch 226/400\n",
      "402/402 [==============================] - 0s 1ms/step - loss: 0.0026 - val_loss: 0.0026\n",
      "Epoch 227/400\n",
      "402/402 [==============================] - 0s 1ms/step - loss: 0.0025 - val_loss: 0.0027\n",
      "Epoch 228/400\n",
      "402/402 [==============================] - 0s 1ms/step - loss: 0.0025 - val_loss: 0.0026\n",
      "Epoch 229/400\n",
      "402/402 [==============================] - 0s 1ms/step - loss: 0.0025 - val_loss: 0.0026\n",
      "Epoch 230/400\n",
      "402/402 [==============================] - 0s 1ms/step - loss: 0.0025 - val_loss: 0.0026\n",
      "Epoch 231/400\n",
      "402/402 [==============================] - 0s 1ms/step - loss: 0.0025 - val_loss: 0.0026\n",
      "Epoch 232/400\n",
      "402/402 [==============================] - 0s 1ms/step - loss: 0.0025 - val_loss: 0.0027\n",
      "Epoch 233/400\n",
      "402/402 [==============================] - 0s 1ms/step - loss: 0.0025 - val_loss: 0.0026\n",
      "Epoch 234/400\n",
      "402/402 [==============================] - 0s 1ms/step - loss: 0.0025 - val_loss: 0.0026\n",
      "Epoch 235/400\n",
      "402/402 [==============================] - 0s 1ms/step - loss: 0.0025 - val_loss: 0.0026\n",
      "Epoch 236/400\n",
      "402/402 [==============================] - 0s 1ms/step - loss: 0.0025 - val_loss: 0.0026\n",
      "Epoch 237/400\n",
      "402/402 [==============================] - 0s 1ms/step - loss: 0.0025 - val_loss: 0.0026\n",
      "Epoch 238/400\n",
      "402/402 [==============================] - 0s 1ms/step - loss: 0.0025 - val_loss: 0.0026\n",
      "Epoch 239/400\n",
      "402/402 [==============================] - 0s 1ms/step - loss: 0.0025 - val_loss: 0.0025\n",
      "Epoch 240/400\n",
      "402/402 [==============================] - 0s 1ms/step - loss: 0.0025 - val_loss: 0.0026\n",
      "Epoch 241/400\n",
      "402/402 [==============================] - 0s 1ms/step - loss: 0.0025 - val_loss: 0.0026\n",
      "Epoch 242/400\n",
      "402/402 [==============================] - 0s 1ms/step - loss: 0.0025 - val_loss: 0.0026\n",
      "Epoch 243/400\n",
      "402/402 [==============================] - 0s 1ms/step - loss: 0.0025 - val_loss: 0.0025\n",
      "Epoch 244/400\n",
      "402/402 [==============================] - 0s 1ms/step - loss: 0.0025 - val_loss: 0.0025\n",
      "Epoch 245/400\n",
      "402/402 [==============================] - 0s 1ms/step - loss: 0.0025 - val_loss: 0.0025\n",
      "Epoch 246/400\n",
      "402/402 [==============================] - 0s 1ms/step - loss: 0.0025 - val_loss: 0.0026\n",
      "Epoch 247/400\n",
      "402/402 [==============================] - 0s 1ms/step - loss: 0.0025 - val_loss: 0.0025\n",
      "Epoch 248/400\n",
      "402/402 [==============================] - 0s 1ms/step - loss: 0.0025 - val_loss: 0.0025\n",
      "Epoch 249/400\n",
      "402/402 [==============================] - 0s 1ms/step - loss: 0.0025 - val_loss: 0.0026\n",
      "Epoch 250/400\n",
      "402/402 [==============================] - 0s 1ms/step - loss: 0.0025 - val_loss: 0.0026\n",
      "Epoch 251/400\n",
      "402/402 [==============================] - 0s 1ms/step - loss: 0.0025 - val_loss: 0.0025\n",
      "Epoch 252/400\n",
      "402/402 [==============================] - 0s 1ms/step - loss: 0.0025 - val_loss: 0.0025\n",
      "Epoch 253/400\n",
      "402/402 [==============================] - 0s 1ms/step - loss: 0.0025 - val_loss: 0.0026\n",
      "Epoch 254/400\n",
      "402/402 [==============================] - 0s 1ms/step - loss: 0.0025 - val_loss: 0.0025\n",
      "Epoch 255/400\n",
      "402/402 [==============================] - 0s 1ms/step - loss: 0.0025 - val_loss: 0.0025\n",
      "Epoch 256/400\n",
      "402/402 [==============================] - 0s 1ms/step - loss: 0.0025 - val_loss: 0.0025\n",
      "Epoch 257/400\n",
      "402/402 [==============================] - 0s 1ms/step - loss: 0.0025 - val_loss: 0.0026\n",
      "Epoch 258/400\n",
      "402/402 [==============================] - 0s 1ms/step - loss: 0.0025 - val_loss: 0.0025\n",
      "Epoch 259/400\n",
      "402/402 [==============================] - 0s 1ms/step - loss: 0.0025 - val_loss: 0.0025\n",
      "Epoch 260/400\n",
      "402/402 [==============================] - 0s 1ms/step - loss: 0.0025 - val_loss: 0.0026\n",
      "Epoch 261/400\n",
      "402/402 [==============================] - 0s 1ms/step - loss: 0.0025 - val_loss: 0.0026\n",
      "Epoch 262/400\n",
      "402/402 [==============================] - 0s 1ms/step - loss: 0.0025 - val_loss: 0.0026\n",
      "Epoch 263/400\n",
      "402/402 [==============================] - 0s 1ms/step - loss: 0.0025 - val_loss: 0.0025\n",
      "Epoch 264/400\n",
      "402/402 [==============================] - 0s 1ms/step - loss: 0.0025 - val_loss: 0.0025\n",
      "Epoch 265/400\n",
      "402/402 [==============================] - 0s 1ms/step - loss: 0.0025 - val_loss: 0.0025\n",
      "Epoch 266/400\n",
      "402/402 [==============================] - 0s 1ms/step - loss: 0.0025 - val_loss: 0.0025\n",
      "Epoch 267/400\n",
      "402/402 [==============================] - 0s 1ms/step - loss: 0.0025 - val_loss: 0.0025\n",
      "Epoch 268/400\n",
      "402/402 [==============================] - 0s 1ms/step - loss: 0.0025 - val_loss: 0.0025\n",
      "Epoch 269/400\n",
      "402/402 [==============================] - 0s 1ms/step - loss: 0.0025 - val_loss: 0.0025\n",
      "Epoch 270/400\n",
      "402/402 [==============================] - 0s 1ms/step - loss: 0.0025 - val_loss: 0.0025\n",
      "Epoch 271/400\n",
      "402/402 [==============================] - 0s 1ms/step - loss: 0.0025 - val_loss: 0.0025\n",
      "Epoch 272/400\n",
      "402/402 [==============================] - 0s 1ms/step - loss: 0.0025 - val_loss: 0.0028\n",
      "Epoch 273/400\n",
      "402/402 [==============================] - 0s 1ms/step - loss: 0.0025 - val_loss: 0.0026\n",
      "Epoch 274/400\n",
      "402/402 [==============================] - 0s 1ms/step - loss: 0.0025 - val_loss: 0.0025\n",
      "Epoch 275/400\n",
      "402/402 [==============================] - 0s 1ms/step - loss: 0.0025 - val_loss: 0.0026\n",
      "Epoch 276/400\n",
      "402/402 [==============================] - 0s 1ms/step - loss: 0.0025 - val_loss: 0.0025\n",
      "Epoch 277/400\n",
      "402/402 [==============================] - 0s 1ms/step - loss: 0.0025 - val_loss: 0.0025\n",
      "Epoch 278/400\n",
      "402/402 [==============================] - 0s 1ms/step - loss: 0.0025 - val_loss: 0.0025\n",
      "Epoch 279/400\n",
      "402/402 [==============================] - 0s 1ms/step - loss: 0.0025 - val_loss: 0.0025\n",
      "Epoch 280/400\n",
      "402/402 [==============================] - 0s 1ms/step - loss: 0.0025 - val_loss: 0.0025\n",
      "Epoch 281/400\n",
      "402/402 [==============================] - 0s 1ms/step - loss: 0.0025 - val_loss: 0.0025\n",
      "Epoch 282/400\n",
      "402/402 [==============================] - 0s 1ms/step - loss: 0.0025 - val_loss: 0.0025\n",
      "Epoch 283/400\n",
      "402/402 [==============================] - 0s 1ms/step - loss: 0.0025 - val_loss: 0.0025\n",
      "Epoch 284/400\n",
      "402/402 [==============================] - 0s 1ms/step - loss: 0.0025 - val_loss: 0.0026\n",
      "Epoch 285/400\n",
      "402/402 [==============================] - 0s 1ms/step - loss: 0.0025 - val_loss: 0.0025\n",
      "Epoch 286/400\n",
      "402/402 [==============================] - 0s 1ms/step - loss: 0.0025 - val_loss: 0.0025\n",
      "Epoch 287/400\n",
      "402/402 [==============================] - 0s 1ms/step - loss: 0.0025 - val_loss: 0.0025\n",
      "Epoch 288/400\n",
      "402/402 [==============================] - 0s 1ms/step - loss: 0.0025 - val_loss: 0.0025\n",
      "Epoch 289/400\n",
      "402/402 [==============================] - 0s 1ms/step - loss: 0.0025 - val_loss: 0.0025\n",
      "Epoch 290/400\n",
      "402/402 [==============================] - 0s 1ms/step - loss: 0.0025 - val_loss: 0.0025\n",
      "Epoch 291/400\n",
      "402/402 [==============================] - 0s 1ms/step - loss: 0.0025 - val_loss: 0.0025\n",
      "Epoch 292/400\n",
      "402/402 [==============================] - 0s 1ms/step - loss: 0.0025 - val_loss: 0.0025\n",
      "Epoch 293/400\n",
      "402/402 [==============================] - 0s 1ms/step - loss: 0.0025 - val_loss: 0.0025\n",
      "Epoch 294/400\n",
      "402/402 [==============================] - 0s 1ms/step - loss: 0.0025 - val_loss: 0.0025\n",
      "Epoch 295/400\n",
      "402/402 [==============================] - 0s 1ms/step - loss: 0.0025 - val_loss: 0.0025\n",
      "Epoch 296/400\n",
      "402/402 [==============================] - 0s 1ms/step - loss: 0.0025 - val_loss: 0.0025\n",
      "Epoch 297/400\n",
      "402/402 [==============================] - 0s 1ms/step - loss: 0.0025 - val_loss: 0.0025\n",
      "Epoch 298/400\n",
      "402/402 [==============================] - 0s 1ms/step - loss: 0.0025 - val_loss: 0.0025\n",
      "Epoch 299/400\n",
      "402/402 [==============================] - 0s 1ms/step - loss: 0.0025 - val_loss: 0.0025\n",
      "Epoch 300/400\n",
      "402/402 [==============================] - 0s 1ms/step - loss: 0.0025 - val_loss: 0.0025\n",
      "Epoch 301/400\n",
      "402/402 [==============================] - 0s 1ms/step - loss: 0.0025 - val_loss: 0.0025\n",
      "Epoch 302/400\n",
      "402/402 [==============================] - 0s 1ms/step - loss: 0.0024 - val_loss: 0.0025\n",
      "Epoch 303/400\n",
      "402/402 [==============================] - 0s 1ms/step - loss: 0.0025 - val_loss: 0.0025\n",
      "Epoch 304/400\n",
      "402/402 [==============================] - 0s 1ms/step - loss: 0.0025 - val_loss: 0.0025\n",
      "Epoch 305/400\n",
      "402/402 [==============================] - 0s 1ms/step - loss: 0.0025 - val_loss: 0.0025\n",
      "Epoch 306/400\n",
      "402/402 [==============================] - 0s 1ms/step - loss: 0.0025 - val_loss: 0.0025\n",
      "Epoch 307/400\n",
      "402/402 [==============================] - 0s 1ms/step - loss: 0.0024 - val_loss: 0.0025\n",
      "Epoch 308/400\n",
      "402/402 [==============================] - 0s 1ms/step - loss: 0.0025 - val_loss: 0.0025\n",
      "Epoch 309/400\n",
      "402/402 [==============================] - 0s 1ms/step - loss: 0.0024 - val_loss: 0.0025\n",
      "Epoch 310/400\n",
      "402/402 [==============================] - 0s 1ms/step - loss: 0.0025 - val_loss: 0.0025\n",
      "Epoch 311/400\n",
      "402/402 [==============================] - 0s 1ms/step - loss: 0.0024 - val_loss: 0.0025\n",
      "Epoch 312/400\n",
      "402/402 [==============================] - 0s 1ms/step - loss: 0.0025 - val_loss: 0.0025\n",
      "Epoch 313/400\n",
      "402/402 [==============================] - 0s 1ms/step - loss: 0.0024 - val_loss: 0.0026\n",
      "Epoch 314/400\n",
      "402/402 [==============================] - 0s 1ms/step - loss: 0.0025 - val_loss: 0.0026\n",
      "Epoch 315/400\n",
      "402/402 [==============================] - 0s 1ms/step - loss: 0.0024 - val_loss: 0.0025\n",
      "Epoch 316/400\n",
      "402/402 [==============================] - 0s 1ms/step - loss: 0.0024 - val_loss: 0.0025\n",
      "Epoch 317/400\n",
      "402/402 [==============================] - 0s 1ms/step - loss: 0.0024 - val_loss: 0.0025\n",
      "Epoch 318/400\n",
      "402/402 [==============================] - 0s 1ms/step - loss: 0.0025 - val_loss: 0.0025\n",
      "Epoch 319/400\n",
      "402/402 [==============================] - 0s 1ms/step - loss: 0.0024 - val_loss: 0.0025\n",
      "Epoch 320/400\n",
      "402/402 [==============================] - 0s 1ms/step - loss: 0.0024 - val_loss: 0.0025\n",
      "Epoch 321/400\n",
      "402/402 [==============================] - 0s 1ms/step - loss: 0.0024 - val_loss: 0.0025\n",
      "Epoch 322/400\n",
      "402/402 [==============================] - 0s 1ms/step - loss: 0.0024 - val_loss: 0.0025\n",
      "Epoch 323/400\n",
      "402/402 [==============================] - 0s 1ms/step - loss: 0.0024 - val_loss: 0.0026\n",
      "Epoch 324/400\n",
      "402/402 [==============================] - 0s 1ms/step - loss: 0.0024 - val_loss: 0.0025\n",
      "Epoch 325/400\n",
      "402/402 [==============================] - 0s 1ms/step - loss: 0.0024 - val_loss: 0.0025\n",
      "Epoch 326/400\n",
      "402/402 [==============================] - 0s 1ms/step - loss: 0.0024 - val_loss: 0.0025\n",
      "Epoch 327/400\n",
      "402/402 [==============================] - 0s 1ms/step - loss: 0.0024 - val_loss: 0.0025\n",
      "Epoch 328/400\n",
      "402/402 [==============================] - 0s 1ms/step - loss: 0.0024 - val_loss: 0.0025\n",
      "Epoch 329/400\n",
      "402/402 [==============================] - 0s 1ms/step - loss: 0.0024 - val_loss: 0.0025\n",
      "Epoch 330/400\n",
      "402/402 [==============================] - 0s 1ms/step - loss: 0.0024 - val_loss: 0.0025\n",
      "Epoch 331/400\n",
      "402/402 [==============================] - 0s 1ms/step - loss: 0.0024 - val_loss: 0.0025\n",
      "Epoch 332/400\n",
      "402/402 [==============================] - 0s 1ms/step - loss: 0.0024 - val_loss: 0.0026\n",
      "Epoch 333/400\n",
      "402/402 [==============================] - 0s 1ms/step - loss: 0.0024 - val_loss: 0.0025\n",
      "Epoch 334/400\n",
      "402/402 [==============================] - 0s 1ms/step - loss: 0.0024 - val_loss: 0.0025\n",
      "Epoch 335/400\n",
      "402/402 [==============================] - 0s 1ms/step - loss: 0.0024 - val_loss: 0.0025\n",
      "Epoch 336/400\n",
      "402/402 [==============================] - 0s 1ms/step - loss: 0.0024 - val_loss: 0.0025\n",
      "Epoch 337/400\n",
      "402/402 [==============================] - 0s 1ms/step - loss: 0.0024 - val_loss: 0.0025\n",
      "Epoch 338/400\n",
      "402/402 [==============================] - 0s 1ms/step - loss: 0.0024 - val_loss: 0.0024\n",
      "Epoch 339/400\n",
      "402/402 [==============================] - 0s 1ms/step - loss: 0.0024 - val_loss: 0.0024\n",
      "Epoch 340/400\n",
      "402/402 [==============================] - 0s 1ms/step - loss: 0.0024 - val_loss: 0.0025\n",
      "Epoch 341/400\n",
      "402/402 [==============================] - 0s 1ms/step - loss: 0.0024 - val_loss: 0.0025\n",
      "Epoch 342/400\n",
      "402/402 [==============================] - 0s 1ms/step - loss: 0.0024 - val_loss: 0.0025\n",
      "Epoch 343/400\n",
      "402/402 [==============================] - 0s 1ms/step - loss: 0.0024 - val_loss: 0.0025\n",
      "Epoch 344/400\n",
      "402/402 [==============================] - 0s 1ms/step - loss: 0.0024 - val_loss: 0.0025\n",
      "Epoch 345/400\n",
      "402/402 [==============================] - 0s 1ms/step - loss: 0.0024 - val_loss: 0.0026\n",
      "Epoch 346/400\n",
      "402/402 [==============================] - 0s 1ms/step - loss: 0.0024 - val_loss: 0.0024\n",
      "Epoch 347/400\n",
      "402/402 [==============================] - 0s 1ms/step - loss: 0.0024 - val_loss: 0.0025\n",
      "Epoch 348/400\n",
      "402/402 [==============================] - 0s 1ms/step - loss: 0.0024 - val_loss: 0.0024\n",
      "Epoch 349/400\n",
      "402/402 [==============================] - 0s 1ms/step - loss: 0.0024 - val_loss: 0.0024\n",
      "Epoch 350/400\n",
      "402/402 [==============================] - 0s 1ms/step - loss: 0.0024 - val_loss: 0.0025\n",
      "Epoch 351/400\n",
      "402/402 [==============================] - 0s 1ms/step - loss: 0.0024 - val_loss: 0.0024\n",
      "Epoch 352/400\n",
      "402/402 [==============================] - 0s 1ms/step - loss: 0.0024 - val_loss: 0.0024\n",
      "Epoch 353/400\n",
      "402/402 [==============================] - 0s 1ms/step - loss: 0.0024 - val_loss: 0.0025\n",
      "Epoch 354/400\n",
      "402/402 [==============================] - 0s 1ms/step - loss: 0.0024 - val_loss: 0.0024\n",
      "Epoch 355/400\n",
      "402/402 [==============================] - 0s 1ms/step - loss: 0.0024 - val_loss: 0.0025\n",
      "Epoch 356/400\n",
      "402/402 [==============================] - 0s 1ms/step - loss: 0.0024 - val_loss: 0.0025\n",
      "Epoch 357/400\n",
      "402/402 [==============================] - 0s 1ms/step - loss: 0.0024 - val_loss: 0.0024\n",
      "Epoch 358/400\n",
      "402/402 [==============================] - 0s 1ms/step - loss: 0.0024 - val_loss: 0.0025\n",
      "Epoch 359/400\n",
      "402/402 [==============================] - 0s 1ms/step - loss: 0.0024 - val_loss: 0.0025\n",
      "Epoch 360/400\n",
      "402/402 [==============================] - 0s 1ms/step - loss: 0.0024 - val_loss: 0.0025\n",
      "Epoch 361/400\n",
      "402/402 [==============================] - 0s 1ms/step - loss: 0.0024 - val_loss: 0.0024\n",
      "Epoch 362/400\n",
      "402/402 [==============================] - 0s 1ms/step - loss: 0.0024 - val_loss: 0.0025\n",
      "Epoch 363/400\n",
      "402/402 [==============================] - 0s 1ms/step - loss: 0.0024 - val_loss: 0.0024\n",
      "Epoch 364/400\n",
      "402/402 [==============================] - 0s 1ms/step - loss: 0.0024 - val_loss: 0.0024\n",
      "Epoch 365/400\n",
      "402/402 [==============================] - 0s 1ms/step - loss: 0.0024 - val_loss: 0.0025\n",
      "Epoch 366/400\n",
      "402/402 [==============================] - 0s 1ms/step - loss: 0.0024 - val_loss: 0.0025\n",
      "Epoch 367/400\n",
      "402/402 [==============================] - 0s 1ms/step - loss: 0.0024 - val_loss: 0.0025\n",
      "Epoch 368/400\n",
      "402/402 [==============================] - 0s 1ms/step - loss: 0.0024 - val_loss: 0.0025\n",
      "Epoch 369/400\n",
      "402/402 [==============================] - 0s 1ms/step - loss: 0.0024 - val_loss: 0.0024\n",
      "Epoch 370/400\n",
      "402/402 [==============================] - 0s 1ms/step - loss: 0.0024 - val_loss: 0.0025\n",
      "Epoch 371/400\n",
      "402/402 [==============================] - 0s 1ms/step - loss: 0.0024 - val_loss: 0.0025\n",
      "Epoch 372/400\n",
      "402/402 [==============================] - 0s 1ms/step - loss: 0.0024 - val_loss: 0.0024\n",
      "Epoch 373/400\n",
      "402/402 [==============================] - 0s 1ms/step - loss: 0.0024 - val_loss: 0.0024\n",
      "Epoch 374/400\n",
      "402/402 [==============================] - 0s 1ms/step - loss: 0.0024 - val_loss: 0.0024\n",
      "Epoch 375/400\n",
      "402/402 [==============================] - 0s 1ms/step - loss: 0.0024 - val_loss: 0.0024\n",
      "Epoch 376/400\n",
      "402/402 [==============================] - 0s 1ms/step - loss: 0.0024 - val_loss: 0.0024\n",
      "Epoch 377/400\n",
      "402/402 [==============================] - 0s 1ms/step - loss: 0.0024 - val_loss: 0.0024\n",
      "Epoch 378/400\n",
      "402/402 [==============================] - 0s 1ms/step - loss: 0.0024 - val_loss: 0.0025\n",
      "Epoch 379/400\n",
      "402/402 [==============================] - 0s 1ms/step - loss: 0.0024 - val_loss: 0.0024\n",
      "Epoch 380/400\n",
      "402/402 [==============================] - 0s 1ms/step - loss: 0.0024 - val_loss: 0.0025\n",
      "Epoch 381/400\n",
      "402/402 [==============================] - 0s 1ms/step - loss: 0.0024 - val_loss: 0.0024\n",
      "Epoch 382/400\n",
      "402/402 [==============================] - 0s 1ms/step - loss: 0.0024 - val_loss: 0.0024\n",
      "Epoch 383/400\n",
      "402/402 [==============================] - 0s 1ms/step - loss: 0.0024 - val_loss: 0.0024\n",
      "Epoch 384/400\n",
      "402/402 [==============================] - 0s 1ms/step - loss: 0.0024 - val_loss: 0.0025\n",
      "Epoch 385/400\n",
      "402/402 [==============================] - 0s 1ms/step - loss: 0.0024 - val_loss: 0.0024\n",
      "Epoch 386/400\n",
      "402/402 [==============================] - 0s 1ms/step - loss: 0.0024 - val_loss: 0.0024\n",
      "Epoch 387/400\n",
      "402/402 [==============================] - 0s 1ms/step - loss: 0.0024 - val_loss: 0.0024\n",
      "Epoch 388/400\n",
      "402/402 [==============================] - 0s 1ms/step - loss: 0.0024 - val_loss: 0.0024\n",
      "Epoch 389/400\n",
      "402/402 [==============================] - 0s 1ms/step - loss: 0.0024 - val_loss: 0.0024\n",
      "Epoch 390/400\n",
      "402/402 [==============================] - 0s 1ms/step - loss: 0.0024 - val_loss: 0.0024\n",
      "Epoch 391/400\n",
      "402/402 [==============================] - 0s 1ms/step - loss: 0.0024 - val_loss: 0.0024\n",
      "Epoch 392/400\n",
      "402/402 [==============================] - 0s 1ms/step - loss: 0.0024 - val_loss: 0.0025\n",
      "Epoch 393/400\n",
      "402/402 [==============================] - 0s 1ms/step - loss: 0.0024 - val_loss: 0.0024\n",
      "Epoch 394/400\n",
      "402/402 [==============================] - 0s 1ms/step - loss: 0.0024 - val_loss: 0.0024\n",
      "Epoch 395/400\n",
      "402/402 [==============================] - 0s 1ms/step - loss: 0.0024 - val_loss: 0.0024\n",
      "Epoch 396/400\n",
      "402/402 [==============================] - 0s 1ms/step - loss: 0.0024 - val_loss: 0.0025\n",
      "Epoch 397/400\n",
      "402/402 [==============================] - 0s 1ms/step - loss: 0.0024 - val_loss: 0.0024\n",
      "Epoch 398/400\n",
      "402/402 [==============================] - 0s 1ms/step - loss: 0.0024 - val_loss: 0.0024\n",
      "Epoch 399/400\n",
      "402/402 [==============================] - 0s 1ms/step - loss: 0.0024 - val_loss: 0.0024\n",
      "Epoch 400/400\n",
      "402/402 [==============================] - 0s 1ms/step - loss: 0.0024 - val_loss: 0.0024\n"
     ]
    }
   ],
   "source": [
    "fitted_models = fit_score_mlp(model_sets, 400)"
   ]
  },
  {
   "cell_type": "code",
   "execution_count": 30,
   "metadata": {},
   "outputs": [
    {
     "ename": "IndexError",
     "evalue": "list index out of range",
     "output_type": "error",
     "traceback": [
      "\u001b[0;31m---------------------------------------------------------------------------\u001b[0m",
      "\u001b[0;31mIndexError\u001b[0m                                Traceback (most recent call last)",
      "\u001b[0;32m<ipython-input-30-cf681a58f8fb>\u001b[0m in \u001b[0;36m<module>\u001b[0;34m\u001b[0m\n\u001b[0;32m----> 1\u001b[0;31m \u001b[0mfitted_models\u001b[0m\u001b[0;34m[\u001b[0m\u001b[0;36m0\u001b[0m\u001b[0;34m]\u001b[0m\u001b[0;34m[\u001b[0m\u001b[0;36m2\u001b[0m\u001b[0;34m]\u001b[0m\u001b[0;34m[\u001b[0m\u001b[0;36m1\u001b[0m\u001b[0;34m]\u001b[0m\u001b[0;34m\u001b[0m\u001b[0;34m\u001b[0m\u001b[0m\n\u001b[0m",
      "\u001b[0;31mIndexError\u001b[0m: list index out of range"
     ]
    }
   ],
   "source": [
    "fitted_models[0][2][1]"
   ]
  },
  {
   "cell_type": "markdown",
   "metadata": {
    "slideshow": {
     "slide_type": "slide"
    }
   },
   "source": [
    "# Training Quality Metrics\n",
    "\n",
    "## Mean Squated Error\n",
    "## Explained Variance Score\n",
    "## Mean Absolute Error"
   ]
  },
  {
   "cell_type": "code",
   "execution_count": 110,
   "metadata": {
    "slideshow": {
     "slide_type": "fragment"
    }
   },
   "outputs": [
    {
     "name": "stdout",
     "output_type": "stream",
     "text": [
      "[0.0014046111948359484, 0.7711356222746979, 0.029236177230077067]\n",
      "[0.0018369391410585137, 0.6830801164983331, 0.033880596945414045]\n",
      "[0.0011528312659294861, 0.8202453224788636, 0.02613147522239094]\n",
      "[0.0023446563410225597, 0.5430321261538262, 0.03853721967544919]\n"
     ]
    }
   ],
   "source": [
    "#model, score_values, test_scr\n",
    "for i in range(4):\n",
    "    print(fitted_models[i][1][0])"
   ]
  },
  {
   "cell_type": "code",
   "execution_count": 109,
   "metadata": {},
   "outputs": [
    {
     "data": {
      "image/png": "[encoded data removed]",
      "text/plain": [
       "<Figure size 360x360 with 1 Axes>"
      ]
     },
     "metadata": {
      "needs_background": "light"
     },
     "output_type": "display_data"
    },
    {
     "data": {
      "image/png": "[encoded data removed]",
      "text/plain": [
       "<Figure size 360x360 with 1 Axes>"
      ]
     },
     "metadata": {
      "needs_background": "light"
     },
     "output_type": "display_data"
    },
    {
     "data": {
      "image/png": "[encoded data removed]",
      "text/plain": [
       "<Figure size 360x360 with 1 Axes>"
      ]
     },
     "metadata": {
      "needs_background": "light"
     },
     "output_type": "display_data"
    },
    {
     "data": {
      "image/png": "[encoded data removed]",
      "text/plain": [
       "<Figure size 360x360 with 1 Axes>"
      ]
     },
     "metadata": {
      "needs_background": "light"
     },
     "output_type": "display_data"
    }
   ],
   "source": [
    "for i in range(4):\n",
    "    df= fitted_models[i][1][2]\n",
    "    sns.lmplot(x='pRUL', y= 'RUL', data=df)"
   ]
  },
  {
   "cell_type": "code",
   "execution_count": null,
   "metadata": {
    "slideshow": {
     "slide_type": "skip"
    }
   },
   "outputs": [],
   "source": [
    "fitted_models[2][2][0]"
   ]
  },
  {
   "cell_type": "code",
   "execution_count": 108,
   "metadata": {
    "slideshow": {
     "slide_type": "slide"
    }
   },
   "outputs": [
    {
     "name": "stdout",
     "output_type": "stream",
     "text": [
      "WARNING:tensorflow:From /opt/conda/lib/python3.8/site-packages/tensorflow/python/training/tracking/tracking.py:111: Model.state_updates (from tensorflow.python.keras.engine.training) is deprecated and will be removed in a future version.\n",
      "Instructions for updating:\n",
      "This property should not be used in TensorFlow 2.0, as updates are applied automatically.\n",
      "WARNING:tensorflow:From /opt/conda/lib/python3.8/site-packages/tensorflow/python/training/tracking/tracking.py:111: Layer.updates (from tensorflow.python.keras.engine.base_layer) is deprecated and will be removed in a future version.\n",
      "Instructions for updating:\n",
      "This property should not be used in TensorFlow 2.0, as updates are applied automatically.\n",
      "INFO:tensorflow:Assets written to: model_1_3/assets\n",
      "INFO:tensorflow:Assets written to: model_2_3/assets\n",
      "INFO:tensorflow:Assets written to: model_3_3/assets\n",
      "INFO:tensorflow:Assets written to: model_4_3/assets\n"
     ]
    }
   ],
   "source": [
    "version=3\n",
    "for k, v in fitted_models.items():\n",
    "    name= 'model_'+str(k+1)+'_'+str(version)\n",
    "    v[0].save(name)"
   ]
  },
  {
   "cell_type": "code",
   "execution_count": 109,
   "metadata": {
    "slideshow": {
     "slide_type": "fragment"
    }
   },
   "outputs": [],
   "source": [
    "for k,v in model_sets.items():\n",
    "    scal_name= 'scaler_'+str(k+1)+'_'+str(version)+'.joblib'\n",
    "    feature_name= 'feature_''scaler_'+str(k+1)+'_'+str(version)+'.pickle'\n",
    "    joblib.dump(v[5], scal_name)\n",
    "    with open(feature_name, 'wb') as handle:\n",
    "        pickle.dump(v[6], handle, protocol=pickle.HIGHEST_PROTOCOL)"
   ]
  },
  {
   "cell_type": "code",
   "execution_count": 110,
   "metadata": {
    "slideshow": {
     "slide_type": "skip"
    }
   },
   "outputs": [
    {
     "data": {
      "image/png": "[encoded data removed]",
      "text/plain": [
       "<Figure size 360x360 with 1 Axes>"
      ]
     },
     "metadata": {
      "needs_background": "light"
     },
     "output_type": "display_data"
    },
    {
     "data": {
      "image/png": "[encoded data removed]",
      "text/plain": [
       "<Figure size 360x360 with 1 Axes>"
      ]
     },
     "metadata": {
      "needs_background": "light"
     },
     "output_type": "display_data"
    },
    {
     "data": {
      "image/png": "[encoded data removed]",
      "text/plain": [
       "<Figure size 360x360 with 1 Axes>"
      ]
     },
     "metadata": {
      "needs_background": "light"
     },
     "output_type": "display_data"
    },
    {
     "data": {
      "image/png": "[encoded data removed]",
      "text/plain": [
       "<Figure size 360x360 with 1 Axes>"
      ]
     },
     "metadata": {
      "needs_background": "light"
     },
     "output_type": "display_data"
    }
   ],
   "source": [
    "# for k,v in fitted_models.items():\n",
    "df= v[2][0]\n",
    "#     sns.lmplot(x='rul', y= 'max', data=df)"
   ]
  },
  {
   "cell_type": "code",
   "execution_count": 62,
   "metadata": {
    "slideshow": {
     "slide_type": "skip"
    }
   },
   "outputs": [
    {
     "data": {
      "text/html": [
       "<div>\n",
       "<style scoped>\n",
       "    .dataframe tbody tr th:only-of-type {\n",
       "        vertical-align: middle;\n",
       "    }\n",
       "\n",
       "    .dataframe tbody tr th {\n",
       "        vertical-align: top;\n",
       "    }\n",
       "\n",
       "    .dataframe thead th {\n",
       "        text-align: right;\n",
       "    }\n",
       "</style>\n",
       "<table border=\"1\" class=\"dataframe\">\n",
       "  <thead>\n",
       "    <tr style=\"text-align: right;\">\n",
       "      <th></th>\n",
       "      <th>rul</th>\n",
       "    </tr>\n",
       "  </thead>\n",
       "  <tbody>\n",
       "    <tr>\n",
       "      <th>0</th>\n",
       "      <td>112</td>\n",
       "    </tr>\n",
       "    <tr>\n",
       "      <th>1</th>\n",
       "      <td>98</td>\n",
       "    </tr>\n",
       "    <tr>\n",
       "      <th>2</th>\n",
       "      <td>69</td>\n",
       "    </tr>\n",
       "    <tr>\n",
       "      <th>3</th>\n",
       "      <td>82</td>\n",
       "    </tr>\n",
       "    <tr>\n",
       "      <th>4</th>\n",
       "      <td>91</td>\n",
       "    </tr>\n",
       "    <tr>\n",
       "      <th>...</th>\n",
       "      <td>...</td>\n",
       "    </tr>\n",
       "    <tr>\n",
       "      <th>95</th>\n",
       "      <td>137</td>\n",
       "    </tr>\n",
       "    <tr>\n",
       "      <th>96</th>\n",
       "      <td>82</td>\n",
       "    </tr>\n",
       "    <tr>\n",
       "      <th>97</th>\n",
       "      <td>59</td>\n",
       "    </tr>\n",
       "    <tr>\n",
       "      <th>98</th>\n",
       "      <td>117</td>\n",
       "    </tr>\n",
       "    <tr>\n",
       "      <th>99</th>\n",
       "      <td>20</td>\n",
       "    </tr>\n",
       "  </tbody>\n",
       "</table>\n",
       "<p>100 rows × 1 columns</p>\n",
       "</div>"
      ],
      "text/plain": [
       "    rul\n",
       "0   112\n",
       "1    98\n",
       "2    69\n",
       "3    82\n",
       "4    91\n",
       "..  ...\n",
       "95  137\n",
       "96   82\n",
       "97   59\n",
       "98  117\n",
       "99   20\n",
       "\n",
       "[100 rows x 1 columns]"
      ]
     },
     "execution_count": 62,
     "metadata": {},
     "output_type": "execute_result"
    }
   ],
   "source": [
    "RULs[0]"
   ]
  },
  {
   "cell_type": "code",
   "execution_count": 107,
   "metadata": {
    "slideshow": {
     "slide_type": "skip"
    }
   },
   "outputs": [],
   "source": [
    "for i in range(4):\n",
    "    df= fitted_models[i][2][0]\n",
    "    df.reset_index(inplace= True)\n",
    "    df['unit']= df['unit'].apply(lambda x: i*1000+x)\n",
    "    "
   ]
  },
  {
   "cell_type": "code",
   "execution_count": 80,
   "metadata": {
    "slideshow": {
     "slide_type": "skip"
    }
   },
   "outputs": [],
   "source": [
    "df0= fitted_models[0][2][0]"
   ]
  },
  {
   "cell_type": "code",
   "execution_count": 81,
   "metadata": {
    "slideshow": {
     "slide_type": "skip"
    }
   },
   "outputs": [],
   "source": [
    "df= df0.merge(df1, left_index= True, right_index= True)"
   ]
  },
  {
   "cell_type": "code",
   "execution_count": 84,
   "metadata": {
    "slideshow": {
     "slide_type": "skip"
    }
   },
   "outputs": [],
   "source": [
    "df['pRUL']= (df.iloc[:,1]- df.iloc[:,0]).apply(lambda x: max(x,0)).apply(lambda x: int(x))"
   ]
  },
  {
   "cell_type": "code",
   "execution_count": 85,
   "metadata": {
    "slideshow": {
     "slide_type": "skip"
    }
   },
   "outputs": [
    {
     "data": {
      "text/plain": [
       "count    100.000000\n",
       "mean      38.880000\n",
       "std       15.926143\n",
       "min       12.000000\n",
       "25%       27.000000\n",
       "50%       37.000000\n",
       "75%       51.000000\n",
       "max       93.000000\n",
       "Name: pRUL, dtype: float64"
      ]
     },
     "execution_count": 85,
     "metadata": {},
     "output_type": "execute_result"
    }
   ],
   "source": [
    "df['pRUL'].describe()"
   ]
  },
  {
   "cell_type": "code",
   "execution_count": 92,
   "metadata": {
    "slideshow": {
     "slide_type": "skip"
    }
   },
   "outputs": [
    {
     "data": {
      "text/html": [
       "<div>\n",
       "<style scoped>\n",
       "    .dataframe tbody tr th:only-of-type {\n",
       "        vertical-align: middle;\n",
       "    }\n",
       "\n",
       "    .dataframe tbody tr th {\n",
       "        vertical-align: top;\n",
       "    }\n",
       "\n",
       "    .dataframe thead th {\n",
       "        text-align: right;\n",
       "    }\n",
       "</style>\n",
       "<table border=\"1\" class=\"dataframe\">\n",
       "  <thead>\n",
       "    <tr style=\"text-align: right;\">\n",
       "      <th></th>\n",
       "      <th>rul</th>\n",
       "    </tr>\n",
       "  </thead>\n",
       "  <tbody>\n",
       "    <tr>\n",
       "      <th>0</th>\n",
       "      <td>112</td>\n",
       "    </tr>\n",
       "    <tr>\n",
       "      <th>1</th>\n",
       "      <td>98</td>\n",
       "    </tr>\n",
       "    <tr>\n",
       "      <th>2</th>\n",
       "      <td>69</td>\n",
       "    </tr>\n",
       "    <tr>\n",
       "      <th>3</th>\n",
       "      <td>82</td>\n",
       "    </tr>\n",
       "    <tr>\n",
       "      <th>4</th>\n",
       "      <td>91</td>\n",
       "    </tr>\n",
       "    <tr>\n",
       "      <th>...</th>\n",
       "      <td>...</td>\n",
       "    </tr>\n",
       "    <tr>\n",
       "      <th>95</th>\n",
       "      <td>137</td>\n",
       "    </tr>\n",
       "    <tr>\n",
       "      <th>96</th>\n",
       "      <td>82</td>\n",
       "    </tr>\n",
       "    <tr>\n",
       "      <th>97</th>\n",
       "      <td>59</td>\n",
       "    </tr>\n",
       "    <tr>\n",
       "      <th>98</th>\n",
       "      <td>117</td>\n",
       "    </tr>\n",
       "    <tr>\n",
       "      <th>99</th>\n",
       "      <td>20</td>\n",
       "    </tr>\n",
       "  </tbody>\n",
       "</table>\n",
       "<p>100 rows × 1 columns</p>\n",
       "</div>"
      ],
      "text/plain": [
       "    rul\n",
       "0   112\n",
       "1    98\n",
       "2    69\n",
       "3    82\n",
       "4    91\n",
       "..  ...\n",
       "95  137\n",
       "96   82\n",
       "97   59\n",
       "98  117\n",
       "99   20\n",
       "\n",
       "[100 rows x 1 columns]"
      ]
     },
     "execution_count": 92,
     "metadata": {},
     "output_type": "execute_result"
    }
   ],
   "source": [
    "RULs[0]"
   ]
  },
  {
   "cell_type": "code",
   "execution_count": null,
   "metadata": {
    "slideshow": {
     "slide_type": "skip"
    }
   },
   "outputs": [],
   "source": []
  }
 ],
 "metadata": {
  "celltoolbar": "Slideshow",
  "kernelspec": {
   "display_name": "Python 3",
   "language": "python",
   "name": "python3"
  },
  "language_info": {
   "codemirror_mode": {
    "name": "ipython",
    "version": 3
   },
   "file_extension": ".py",
   "mimetype": "text/x-python",
   "name": "python",
   "nbconvert_exporter": "python",
   "pygments_lexer": "ipython3",
   "version": "3.8.5"
  }
 },
 "nbformat": 4,
 "nbformat_minor": 4
}
