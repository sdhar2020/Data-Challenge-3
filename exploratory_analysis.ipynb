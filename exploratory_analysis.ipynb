{
 "cells": [
  {
   "cell_type": "markdown",
   "source": [
    "## Sensor Variables in Data\n",
    "| Index\t| Symbol | Description | Unit |\n",
    "| --- | --- | --- | --- |\n",
    "| 1\t| T2 | Total | temperature at fan inlet | °R |\n",
    "| 2\t| T24 | Total temperature at LPC outlet | °R |\n",
    "| 3\t| T30 | Total temperature at HPC outlet | °R |\n",
    "| 4\t| T50 | Total temperature at LPT outlet | °R |\n",
    "| 5\t| P2 | Pressure at fan inlet | psia |\n",
    "| 6\t| P15 | Total pressure in bypass-duct | psia |\n",
    "| 7\t| P30 | Total pressure at HPC outlet | psia |\n",
    "| 8\t| Nf | Physical fan speed | rpm |\n",
    "| 9\t| Nc | Physical core speed | rpm |\n",
    "| 10 | epr | Engine pressure ratio (P50/P2) | — |\n",
    "| 11 | Ps30 | Static pressure at HPC outlet | psia |\n",
    "| 12 | phi | Ratio of fuel flow to Ps30 | pps/psi |\n",
    "| 13 | NRf | Corrected fan speed | rpm |\n",
    "| 14 | NRc | Corrected core speed | rpm |\n",
    "| 15 | BPR | Bypass ratio | — |\n",
    "| 16 | farB | Burner fuel-air ratio | — |\n",
    "| 17 | htBleed | Bleed enthalpy | — |\n",
    "| 18 | Nf_dmd | Demanded fan speed | rpm |\n",
    "| 19 | PCNFR_dmd | Demanded corrected fan speed | rpm |\n",
    "| 20 | W31\tHPT | coolant bleed | lbm/s |\n",
    "| 21 | W32\tLPT | coolant bleed | lbm/s |\n"
   ],
   "metadata": {
    "collapsed": false,
    "pycharm": {
     "name": "#%% md\n"
    }
   }
  },
  {
   "cell_type": "code",
   "source": [
    "from pandas import read_csv, merge\n",
    "from sklearn.linear_model import LinearRegression\n",
    "from sklearn.metrics import mean_squared_error"
   ],
   "metadata": {
    "collapsed": false,
    "pycharm": {
     "name": "#%%\n"
    }
   },
   "execution_count": 21,
   "outputs": []
  },
  {
   "cell_type": "code",
   "execution_count": 22,
   "outputs": [],
   "source": [
    "DATA_LABELS = ['unit', 'cycles', 'op_setting1', 'op_setting2', 'op_setting3', 's1', 's2', 's3',\n",
    "               's4', 's5', 's6', 's7', 's8', 's9', 's10', 's11', 's12', 's13', 's14', 's15', 's16',\n",
    "               's17', 's18', 's19', 's20', 's21']"
   ],
   "metadata": {
    "collapsed": false,
    "pycharm": {
     "name": "#%%\n"
    }
   }
  },
  {
   "cell_type": "code",
   "execution_count": 23,
   "outputs": [],
   "source": [
    "df = read_csv(\"Data/train_FD001.txt\", delimiter=\" \", names=DATA_LABELS, usecols=range(len(DATA_LABELS)))\n"
   ],
   "metadata": {
    "collapsed": false,
    "pycharm": {
     "name": "#%%\n"
    }
   }
  },
  {
   "cell_type": "code",
   "execution_count": 24,
   "outputs": [
    {
     "data": {
      "text/plain": "               unit        cycles   op_setting1   op_setting2  op_setting3  \\\ncount  20631.000000  20631.000000  20631.000000  20631.000000      20631.0   \nmean      51.506568    108.807862     -0.000009      0.000002        100.0   \nstd       29.227633     68.880990      0.002187      0.000293          0.0   \nmin        1.000000      1.000000     -0.008700     -0.000600        100.0   \n25%       26.000000     52.000000     -0.001500     -0.000200        100.0   \n50%       52.000000    104.000000      0.000000      0.000000        100.0   \n75%       77.000000    156.000000      0.001500      0.000300        100.0   \nmax      100.000000    362.000000      0.008700      0.000600        100.0   \n\n             s1            s2            s3            s4            s5  ...  \\\ncount  20631.00  20631.000000  20631.000000  20631.000000  2.063100e+04  ...   \nmean     518.67    642.680934   1590.523119   1408.933782  1.462000e+01  ...   \nstd        0.00      0.500053      6.131150      9.000605  1.776400e-15  ...   \nmin      518.67    641.210000   1571.040000   1382.250000  1.462000e+01  ...   \n25%      518.67    642.325000   1586.260000   1402.360000  1.462000e+01  ...   \n50%      518.67    642.640000   1590.100000   1408.040000  1.462000e+01  ...   \n75%      518.67    643.000000   1594.380000   1414.555000  1.462000e+01  ...   \nmax      518.67    644.530000   1616.910000   1441.490000  1.462000e+01  ...   \n\n                s12           s13           s14           s15           s16  \\\ncount  20631.000000  20631.000000  20631.000000  20631.000000  2.063100e+04   \nmean     521.413470   2388.096152   8143.752722      8.442146  3.000000e-02   \nstd        0.737553      0.071919     19.076176      0.037505  1.387812e-17   \nmin      518.690000   2387.880000   8099.940000      8.324900  3.000000e-02   \n25%      520.960000   2388.040000   8133.245000      8.414900  3.000000e-02   \n50%      521.480000   2388.090000   8140.540000      8.438900  3.000000e-02   \n75%      521.950000   2388.140000   8148.310000      8.465600  3.000000e-02   \nmax      523.380000   2388.560000   8293.720000      8.584800  3.000000e-02   \n\n                s17      s18      s19           s20           s21  \ncount  20631.000000  20631.0  20631.0  20631.000000  20631.000000  \nmean     393.210654   2388.0    100.0     38.816271     23.289705  \nstd        1.548763      0.0      0.0      0.180746      0.108251  \nmin      388.000000   2388.0    100.0     38.140000     22.894200  \n25%      392.000000   2388.0    100.0     38.700000     23.221800  \n50%      393.000000   2388.0    100.0     38.830000     23.297900  \n75%      394.000000   2388.0    100.0     38.950000     23.366800  \nmax      400.000000   2388.0    100.0     39.430000     23.618400  \n\n[8 rows x 26 columns]",
      "text/html": "<div>\n<style scoped>\n    .dataframe tbody tr th:only-of-type {\n        vertical-align: middle;\n    }\n\n    .dataframe tbody tr th {\n        vertical-align: top;\n    }\n\n    .dataframe thead th {\n        text-align: right;\n    }\n</style>\n<table border=\"1\" class=\"dataframe\">\n  <thead>\n    <tr style=\"text-align: right;\">\n      <th></th>\n      <th>unit</th>\n      <th>cycles</th>\n      <th>op_setting1</th>\n      <th>op_setting2</th>\n      <th>op_setting3</th>\n      <th>s1</th>\n      <th>s2</th>\n      <th>s3</th>\n      <th>s4</th>\n      <th>s5</th>\n      <th>...</th>\n      <th>s12</th>\n      <th>s13</th>\n      <th>s14</th>\n      <th>s15</th>\n      <th>s16</th>\n      <th>s17</th>\n      <th>s18</th>\n      <th>s19</th>\n      <th>s20</th>\n      <th>s21</th>\n    </tr>\n  </thead>\n  <tbody>\n    <tr>\n      <th>count</th>\n      <td>20631.000000</td>\n      <td>20631.000000</td>\n      <td>20631.000000</td>\n      <td>20631.000000</td>\n      <td>20631.0</td>\n      <td>20631.00</td>\n      <td>20631.000000</td>\n      <td>20631.000000</td>\n      <td>20631.000000</td>\n      <td>2.063100e+04</td>\n      <td>...</td>\n      <td>20631.000000</td>\n      <td>20631.000000</td>\n      <td>20631.000000</td>\n      <td>20631.000000</td>\n      <td>2.063100e+04</td>\n      <td>20631.000000</td>\n      <td>20631.0</td>\n      <td>20631.0</td>\n      <td>20631.000000</td>\n      <td>20631.000000</td>\n    </tr>\n    <tr>\n      <th>mean</th>\n      <td>51.506568</td>\n      <td>108.807862</td>\n      <td>-0.000009</td>\n      <td>0.000002</td>\n      <td>100.0</td>\n      <td>518.67</td>\n      <td>642.680934</td>\n      <td>1590.523119</td>\n      <td>1408.933782</td>\n      <td>1.462000e+01</td>\n      <td>...</td>\n      <td>521.413470</td>\n      <td>2388.096152</td>\n      <td>8143.752722</td>\n      <td>8.442146</td>\n      <td>3.000000e-02</td>\n      <td>393.210654</td>\n      <td>2388.0</td>\n      <td>100.0</td>\n      <td>38.816271</td>\n      <td>23.289705</td>\n    </tr>\n    <tr>\n      <th>std</th>\n      <td>29.227633</td>\n      <td>68.880990</td>\n      <td>0.002187</td>\n      <td>0.000293</td>\n      <td>0.0</td>\n      <td>0.00</td>\n      <td>0.500053</td>\n      <td>6.131150</td>\n      <td>9.000605</td>\n      <td>1.776400e-15</td>\n      <td>...</td>\n      <td>0.737553</td>\n      <td>0.071919</td>\n      <td>19.076176</td>\n      <td>0.037505</td>\n      <td>1.387812e-17</td>\n      <td>1.548763</td>\n      <td>0.0</td>\n      <td>0.0</td>\n      <td>0.180746</td>\n      <td>0.108251</td>\n    </tr>\n    <tr>\n      <th>min</th>\n      <td>1.000000</td>\n      <td>1.000000</td>\n      <td>-0.008700</td>\n      <td>-0.000600</td>\n      <td>100.0</td>\n      <td>518.67</td>\n      <td>641.210000</td>\n      <td>1571.040000</td>\n      <td>1382.250000</td>\n      <td>1.462000e+01</td>\n      <td>...</td>\n      <td>518.690000</td>\n      <td>2387.880000</td>\n      <td>8099.940000</td>\n      <td>8.324900</td>\n      <td>3.000000e-02</td>\n      <td>388.000000</td>\n      <td>2388.0</td>\n      <td>100.0</td>\n      <td>38.140000</td>\n      <td>22.894200</td>\n    </tr>\n    <tr>\n      <th>25%</th>\n      <td>26.000000</td>\n      <td>52.000000</td>\n      <td>-0.001500</td>\n      <td>-0.000200</td>\n      <td>100.0</td>\n      <td>518.67</td>\n      <td>642.325000</td>\n      <td>1586.260000</td>\n      <td>1402.360000</td>\n      <td>1.462000e+01</td>\n      <td>...</td>\n      <td>520.960000</td>\n      <td>2388.040000</td>\n      <td>8133.245000</td>\n      <td>8.414900</td>\n      <td>3.000000e-02</td>\n      <td>392.000000</td>\n      <td>2388.0</td>\n      <td>100.0</td>\n      <td>38.700000</td>\n      <td>23.221800</td>\n    </tr>\n    <tr>\n      <th>50%</th>\n      <td>52.000000</td>\n      <td>104.000000</td>\n      <td>0.000000</td>\n      <td>0.000000</td>\n      <td>100.0</td>\n      <td>518.67</td>\n      <td>642.640000</td>\n      <td>1590.100000</td>\n      <td>1408.040000</td>\n      <td>1.462000e+01</td>\n      <td>...</td>\n      <td>521.480000</td>\n      <td>2388.090000</td>\n      <td>8140.540000</td>\n      <td>8.438900</td>\n      <td>3.000000e-02</td>\n      <td>393.000000</td>\n      <td>2388.0</td>\n      <td>100.0</td>\n      <td>38.830000</td>\n      <td>23.297900</td>\n    </tr>\n    <tr>\n      <th>75%</th>\n      <td>77.000000</td>\n      <td>156.000000</td>\n      <td>0.001500</td>\n      <td>0.000300</td>\n      <td>100.0</td>\n      <td>518.67</td>\n      <td>643.000000</td>\n      <td>1594.380000</td>\n      <td>1414.555000</td>\n      <td>1.462000e+01</td>\n      <td>...</td>\n      <td>521.950000</td>\n      <td>2388.140000</td>\n      <td>8148.310000</td>\n      <td>8.465600</td>\n      <td>3.000000e-02</td>\n      <td>394.000000</td>\n      <td>2388.0</td>\n      <td>100.0</td>\n      <td>38.950000</td>\n      <td>23.366800</td>\n    </tr>\n    <tr>\n      <th>max</th>\n      <td>100.000000</td>\n      <td>362.000000</td>\n      <td>0.008700</td>\n      <td>0.000600</td>\n      <td>100.0</td>\n      <td>518.67</td>\n      <td>644.530000</td>\n      <td>1616.910000</td>\n      <td>1441.490000</td>\n      <td>1.462000e+01</td>\n      <td>...</td>\n      <td>523.380000</td>\n      <td>2388.560000</td>\n      <td>8293.720000</td>\n      <td>8.584800</td>\n      <td>3.000000e-02</td>\n      <td>400.000000</td>\n      <td>2388.0</td>\n      <td>100.0</td>\n      <td>39.430000</td>\n      <td>23.618400</td>\n    </tr>\n  </tbody>\n</table>\n<p>8 rows × 26 columns</p>\n</div>"
     },
     "execution_count": 24,
     "metadata": {},
     "output_type": "execute_result"
    }
   ],
   "source": [
    "df.describe()\n"
   ],
   "metadata": {
    "collapsed": false,
    "pycharm": {
     "name": "#%%\n"
    }
   }
  },
  {
   "cell_type": "code",
   "execution_count": 25,
   "outputs": [
    {
     "data": {
      "text/plain": "       unit  cycles  op_setting1  op_setting2      s2       s3       s4  \\\n0         1       1      -0.0007      -0.0004  641.82  1589.70  1400.60   \n1         1       2       0.0019      -0.0003  642.15  1591.82  1403.14   \n2         1       3      -0.0043       0.0003  642.35  1587.99  1404.20   \n3         1       4       0.0007       0.0000  642.35  1582.79  1401.87   \n4         1       5      -0.0019      -0.0002  642.37  1582.85  1406.22   \n...     ...     ...          ...          ...     ...      ...      ...   \n20626   100     196      -0.0004      -0.0003  643.49  1597.98  1428.63   \n20627   100     197      -0.0016      -0.0005  643.54  1604.50  1433.58   \n20628   100     198       0.0004       0.0000  643.42  1602.46  1428.18   \n20629   100     199      -0.0011       0.0003  643.23  1605.26  1426.53   \n20630   100     200      -0.0032      -0.0005  643.85  1600.38  1432.14   \n\n          s6      s7       s8       s9    s11     s12      s13      s14  \\\n0      21.61  554.36  2388.06  9046.19  47.47  521.66  2388.02  8138.62   \n1      21.61  553.75  2388.04  9044.07  47.49  522.28  2388.07  8131.49   \n2      21.61  554.26  2388.08  9052.94  47.27  522.42  2388.03  8133.23   \n3      21.61  554.45  2388.11  9049.48  47.13  522.86  2388.08  8133.83   \n4      21.61  554.00  2388.06  9055.15  47.28  522.19  2388.04  8133.80   \n...      ...     ...      ...      ...    ...     ...      ...      ...   \n20626  21.61  551.43  2388.19  9065.52  48.07  519.49  2388.26  8137.60   \n20627  21.61  550.86  2388.23  9065.11  48.04  519.68  2388.22  8136.50   \n20628  21.61  550.94  2388.24  9065.90  48.09  520.01  2388.24  8141.05   \n20629  21.61  550.68  2388.25  9073.72  48.39  519.67  2388.23  8139.29   \n20630  21.61  550.79  2388.26  9061.48  48.20  519.30  2388.26  8137.33   \n\n          s15  s17    s20      s21  \n0      8.4195  392  39.06  23.4190  \n1      8.4318  392  39.00  23.4236  \n2      8.4178  390  38.95  23.3442  \n3      8.3682  392  38.88  23.3739  \n4      8.4294  393  38.90  23.4044  \n...       ...  ...    ...      ...  \n20626  8.4956  397  38.49  22.9735  \n20627  8.5139  395  38.30  23.1594  \n20628  8.5646  398  38.44  22.9333  \n20629  8.5389  395  38.29  23.0640  \n20630  8.5036  396  38.37  23.0522  \n\n[20631 rows x 19 columns]",
      "text/html": "<div>\n<style scoped>\n    .dataframe tbody tr th:only-of-type {\n        vertical-align: middle;\n    }\n\n    .dataframe tbody tr th {\n        vertical-align: top;\n    }\n\n    .dataframe thead th {\n        text-align: right;\n    }\n</style>\n<table border=\"1\" class=\"dataframe\">\n  <thead>\n    <tr style=\"text-align: right;\">\n      <th></th>\n      <th>unit</th>\n      <th>cycles</th>\n      <th>op_setting1</th>\n      <th>op_setting2</th>\n      <th>s2</th>\n      <th>s3</th>\n      <th>s4</th>\n      <th>s6</th>\n      <th>s7</th>\n      <th>s8</th>\n      <th>s9</th>\n      <th>s11</th>\n      <th>s12</th>\n      <th>s13</th>\n      <th>s14</th>\n      <th>s15</th>\n      <th>s17</th>\n      <th>s20</th>\n      <th>s21</th>\n    </tr>\n  </thead>\n  <tbody>\n    <tr>\n      <th>0</th>\n      <td>1</td>\n      <td>1</td>\n      <td>-0.0007</td>\n      <td>-0.0004</td>\n      <td>641.82</td>\n      <td>1589.70</td>\n      <td>1400.60</td>\n      <td>21.61</td>\n      <td>554.36</td>\n      <td>2388.06</td>\n      <td>9046.19</td>\n      <td>47.47</td>\n      <td>521.66</td>\n      <td>2388.02</td>\n      <td>8138.62</td>\n      <td>8.4195</td>\n      <td>392</td>\n      <td>39.06</td>\n      <td>23.4190</td>\n    </tr>\n    <tr>\n      <th>1</th>\n      <td>1</td>\n      <td>2</td>\n      <td>0.0019</td>\n      <td>-0.0003</td>\n      <td>642.15</td>\n      <td>1591.82</td>\n      <td>1403.14</td>\n      <td>21.61</td>\n      <td>553.75</td>\n      <td>2388.04</td>\n      <td>9044.07</td>\n      <td>47.49</td>\n      <td>522.28</td>\n      <td>2388.07</td>\n      <td>8131.49</td>\n      <td>8.4318</td>\n      <td>392</td>\n      <td>39.00</td>\n      <td>23.4236</td>\n    </tr>\n    <tr>\n      <th>2</th>\n      <td>1</td>\n      <td>3</td>\n      <td>-0.0043</td>\n      <td>0.0003</td>\n      <td>642.35</td>\n      <td>1587.99</td>\n      <td>1404.20</td>\n      <td>21.61</td>\n      <td>554.26</td>\n      <td>2388.08</td>\n      <td>9052.94</td>\n      <td>47.27</td>\n      <td>522.42</td>\n      <td>2388.03</td>\n      <td>8133.23</td>\n      <td>8.4178</td>\n      <td>390</td>\n      <td>38.95</td>\n      <td>23.3442</td>\n    </tr>\n    <tr>\n      <th>3</th>\n      <td>1</td>\n      <td>4</td>\n      <td>0.0007</td>\n      <td>0.0000</td>\n      <td>642.35</td>\n      <td>1582.79</td>\n      <td>1401.87</td>\n      <td>21.61</td>\n      <td>554.45</td>\n      <td>2388.11</td>\n      <td>9049.48</td>\n      <td>47.13</td>\n      <td>522.86</td>\n      <td>2388.08</td>\n      <td>8133.83</td>\n      <td>8.3682</td>\n      <td>392</td>\n      <td>38.88</td>\n      <td>23.3739</td>\n    </tr>\n    <tr>\n      <th>4</th>\n      <td>1</td>\n      <td>5</td>\n      <td>-0.0019</td>\n      <td>-0.0002</td>\n      <td>642.37</td>\n      <td>1582.85</td>\n      <td>1406.22</td>\n      <td>21.61</td>\n      <td>554.00</td>\n      <td>2388.06</td>\n      <td>9055.15</td>\n      <td>47.28</td>\n      <td>522.19</td>\n      <td>2388.04</td>\n      <td>8133.80</td>\n      <td>8.4294</td>\n      <td>393</td>\n      <td>38.90</td>\n      <td>23.4044</td>\n    </tr>\n    <tr>\n      <th>...</th>\n      <td>...</td>\n      <td>...</td>\n      <td>...</td>\n      <td>...</td>\n      <td>...</td>\n      <td>...</td>\n      <td>...</td>\n      <td>...</td>\n      <td>...</td>\n      <td>...</td>\n      <td>...</td>\n      <td>...</td>\n      <td>...</td>\n      <td>...</td>\n      <td>...</td>\n      <td>...</td>\n      <td>...</td>\n      <td>...</td>\n      <td>...</td>\n    </tr>\n    <tr>\n      <th>20626</th>\n      <td>100</td>\n      <td>196</td>\n      <td>-0.0004</td>\n      <td>-0.0003</td>\n      <td>643.49</td>\n      <td>1597.98</td>\n      <td>1428.63</td>\n      <td>21.61</td>\n      <td>551.43</td>\n      <td>2388.19</td>\n      <td>9065.52</td>\n      <td>48.07</td>\n      <td>519.49</td>\n      <td>2388.26</td>\n      <td>8137.60</td>\n      <td>8.4956</td>\n      <td>397</td>\n      <td>38.49</td>\n      <td>22.9735</td>\n    </tr>\n    <tr>\n      <th>20627</th>\n      <td>100</td>\n      <td>197</td>\n      <td>-0.0016</td>\n      <td>-0.0005</td>\n      <td>643.54</td>\n      <td>1604.50</td>\n      <td>1433.58</td>\n      <td>21.61</td>\n      <td>550.86</td>\n      <td>2388.23</td>\n      <td>9065.11</td>\n      <td>48.04</td>\n      <td>519.68</td>\n      <td>2388.22</td>\n      <td>8136.50</td>\n      <td>8.5139</td>\n      <td>395</td>\n      <td>38.30</td>\n      <td>23.1594</td>\n    </tr>\n    <tr>\n      <th>20628</th>\n      <td>100</td>\n      <td>198</td>\n      <td>0.0004</td>\n      <td>0.0000</td>\n      <td>643.42</td>\n      <td>1602.46</td>\n      <td>1428.18</td>\n      <td>21.61</td>\n      <td>550.94</td>\n      <td>2388.24</td>\n      <td>9065.90</td>\n      <td>48.09</td>\n      <td>520.01</td>\n      <td>2388.24</td>\n      <td>8141.05</td>\n      <td>8.5646</td>\n      <td>398</td>\n      <td>38.44</td>\n      <td>22.9333</td>\n    </tr>\n    <tr>\n      <th>20629</th>\n      <td>100</td>\n      <td>199</td>\n      <td>-0.0011</td>\n      <td>0.0003</td>\n      <td>643.23</td>\n      <td>1605.26</td>\n      <td>1426.53</td>\n      <td>21.61</td>\n      <td>550.68</td>\n      <td>2388.25</td>\n      <td>9073.72</td>\n      <td>48.39</td>\n      <td>519.67</td>\n      <td>2388.23</td>\n      <td>8139.29</td>\n      <td>8.5389</td>\n      <td>395</td>\n      <td>38.29</td>\n      <td>23.0640</td>\n    </tr>\n    <tr>\n      <th>20630</th>\n      <td>100</td>\n      <td>200</td>\n      <td>-0.0032</td>\n      <td>-0.0005</td>\n      <td>643.85</td>\n      <td>1600.38</td>\n      <td>1432.14</td>\n      <td>21.61</td>\n      <td>550.79</td>\n      <td>2388.26</td>\n      <td>9061.48</td>\n      <td>48.20</td>\n      <td>519.30</td>\n      <td>2388.26</td>\n      <td>8137.33</td>\n      <td>8.5036</td>\n      <td>396</td>\n      <td>38.37</td>\n      <td>23.0522</td>\n    </tr>\n  </tbody>\n</table>\n<p>20631 rows × 19 columns</p>\n</div>"
     },
     "execution_count": 25,
     "metadata": {},
     "output_type": "execute_result"
    }
   ],
   "source": [
    "stddev_threshold = 0.00001\n",
    "df_stddev_filtered = df.drop(df.std()[df.std() < stddev_threshold].index.values, axis=1)\n",
    "df_stddev_filtered\n"
   ],
   "metadata": {
    "collapsed": false,
    "pycharm": {
     "name": "#%%\n"
    }
   }
  },
  {
   "cell_type": "code",
   "execution_count": 26,
   "outputs": [
    {
     "data": {
      "text/plain": "       unit  cycles  op_setting1  op_setting2      s2       s3       s4  \\\n0         1       1      -0.0007      -0.0004  641.82  1589.70  1400.60   \n1         1       2       0.0019      -0.0003  642.15  1591.82  1403.14   \n2         1       3      -0.0043       0.0003  642.35  1587.99  1404.20   \n3         1       4       0.0007       0.0000  642.35  1582.79  1401.87   \n4         1       5      -0.0019      -0.0002  642.37  1582.85  1406.22   \n...     ...     ...          ...          ...     ...      ...      ...   \n20626   100     196      -0.0004      -0.0003  643.49  1597.98  1428.63   \n20627   100     197      -0.0016      -0.0005  643.54  1604.50  1433.58   \n20628   100     198       0.0004       0.0000  643.42  1602.46  1428.18   \n20629   100     199      -0.0011       0.0003  643.23  1605.26  1426.53   \n20630   100     200      -0.0032      -0.0005  643.85  1600.38  1432.14   \n\n          s6      s7       s8  ...    s11     s12      s13      s14     s15  \\\n0      21.61  554.36  2388.06  ...  47.47  521.66  2388.02  8138.62  8.4195   \n1      21.61  553.75  2388.04  ...  47.49  522.28  2388.07  8131.49  8.4318   \n2      21.61  554.26  2388.08  ...  47.27  522.42  2388.03  8133.23  8.4178   \n3      21.61  554.45  2388.11  ...  47.13  522.86  2388.08  8133.83  8.3682   \n4      21.61  554.00  2388.06  ...  47.28  522.19  2388.04  8133.80  8.4294   \n...      ...     ...      ...  ...    ...     ...      ...      ...     ...   \n20626  21.61  551.43  2388.19  ...  48.07  519.49  2388.26  8137.60  8.4956   \n20627  21.61  550.86  2388.23  ...  48.04  519.68  2388.22  8136.50  8.5139   \n20628  21.61  550.94  2388.24  ...  48.09  520.01  2388.24  8141.05  8.5646   \n20629  21.61  550.68  2388.25  ...  48.39  519.67  2388.23  8139.29  8.5389   \n20630  21.61  550.79  2388.26  ...  48.20  519.30  2388.26  8137.33  8.5036   \n\n       s17    s20      s21  maxcycles  RUL  \n0      392  39.06  23.4190        192  191  \n1      392  39.00  23.4236        192  190  \n2      390  38.95  23.3442        192  189  \n3      392  38.88  23.3739        192  188  \n4      393  38.90  23.4044        192  187  \n...    ...    ...      ...        ...  ...  \n20626  397  38.49  22.9735        200    4  \n20627  395  38.30  23.1594        200    3  \n20628  398  38.44  22.9333        200    2  \n20629  395  38.29  23.0640        200    1  \n20630  396  38.37  23.0522        200    0  \n\n[20631 rows x 21 columns]",
      "text/html": "<div>\n<style scoped>\n    .dataframe tbody tr th:only-of-type {\n        vertical-align: middle;\n    }\n\n    .dataframe tbody tr th {\n        vertical-align: top;\n    }\n\n    .dataframe thead th {\n        text-align: right;\n    }\n</style>\n<table border=\"1\" class=\"dataframe\">\n  <thead>\n    <tr style=\"text-align: right;\">\n      <th></th>\n      <th>unit</th>\n      <th>cycles</th>\n      <th>op_setting1</th>\n      <th>op_setting2</th>\n      <th>s2</th>\n      <th>s3</th>\n      <th>s4</th>\n      <th>s6</th>\n      <th>s7</th>\n      <th>s8</th>\n      <th>...</th>\n      <th>s11</th>\n      <th>s12</th>\n      <th>s13</th>\n      <th>s14</th>\n      <th>s15</th>\n      <th>s17</th>\n      <th>s20</th>\n      <th>s21</th>\n      <th>maxcycles</th>\n      <th>RUL</th>\n    </tr>\n  </thead>\n  <tbody>\n    <tr>\n      <th>0</th>\n      <td>1</td>\n      <td>1</td>\n      <td>-0.0007</td>\n      <td>-0.0004</td>\n      <td>641.82</td>\n      <td>1589.70</td>\n      <td>1400.60</td>\n      <td>21.61</td>\n      <td>554.36</td>\n      <td>2388.06</td>\n      <td>...</td>\n      <td>47.47</td>\n      <td>521.66</td>\n      <td>2388.02</td>\n      <td>8138.62</td>\n      <td>8.4195</td>\n      <td>392</td>\n      <td>39.06</td>\n      <td>23.4190</td>\n      <td>192</td>\n      <td>191</td>\n    </tr>\n    <tr>\n      <th>1</th>\n      <td>1</td>\n      <td>2</td>\n      <td>0.0019</td>\n      <td>-0.0003</td>\n      <td>642.15</td>\n      <td>1591.82</td>\n      <td>1403.14</td>\n      <td>21.61</td>\n      <td>553.75</td>\n      <td>2388.04</td>\n      <td>...</td>\n      <td>47.49</td>\n      <td>522.28</td>\n      <td>2388.07</td>\n      <td>8131.49</td>\n      <td>8.4318</td>\n      <td>392</td>\n      <td>39.00</td>\n      <td>23.4236</td>\n      <td>192</td>\n      <td>190</td>\n    </tr>\n    <tr>\n      <th>2</th>\n      <td>1</td>\n      <td>3</td>\n      <td>-0.0043</td>\n      <td>0.0003</td>\n      <td>642.35</td>\n      <td>1587.99</td>\n      <td>1404.20</td>\n      <td>21.61</td>\n      <td>554.26</td>\n      <td>2388.08</td>\n      <td>...</td>\n      <td>47.27</td>\n      <td>522.42</td>\n      <td>2388.03</td>\n      <td>8133.23</td>\n      <td>8.4178</td>\n      <td>390</td>\n      <td>38.95</td>\n      <td>23.3442</td>\n      <td>192</td>\n      <td>189</td>\n    </tr>\n    <tr>\n      <th>3</th>\n      <td>1</td>\n      <td>4</td>\n      <td>0.0007</td>\n      <td>0.0000</td>\n      <td>642.35</td>\n      <td>1582.79</td>\n      <td>1401.87</td>\n      <td>21.61</td>\n      <td>554.45</td>\n      <td>2388.11</td>\n      <td>...</td>\n      <td>47.13</td>\n      <td>522.86</td>\n      <td>2388.08</td>\n      <td>8133.83</td>\n      <td>8.3682</td>\n      <td>392</td>\n      <td>38.88</td>\n      <td>23.3739</td>\n      <td>192</td>\n      <td>188</td>\n    </tr>\n    <tr>\n      <th>4</th>\n      <td>1</td>\n      <td>5</td>\n      <td>-0.0019</td>\n      <td>-0.0002</td>\n      <td>642.37</td>\n      <td>1582.85</td>\n      <td>1406.22</td>\n      <td>21.61</td>\n      <td>554.00</td>\n      <td>2388.06</td>\n      <td>...</td>\n      <td>47.28</td>\n      <td>522.19</td>\n      <td>2388.04</td>\n      <td>8133.80</td>\n      <td>8.4294</td>\n      <td>393</td>\n      <td>38.90</td>\n      <td>23.4044</td>\n      <td>192</td>\n      <td>187</td>\n    </tr>\n    <tr>\n      <th>...</th>\n      <td>...</td>\n      <td>...</td>\n      <td>...</td>\n      <td>...</td>\n      <td>...</td>\n      <td>...</td>\n      <td>...</td>\n      <td>...</td>\n      <td>...</td>\n      <td>...</td>\n      <td>...</td>\n      <td>...</td>\n      <td>...</td>\n      <td>...</td>\n      <td>...</td>\n      <td>...</td>\n      <td>...</td>\n      <td>...</td>\n      <td>...</td>\n      <td>...</td>\n      <td>...</td>\n    </tr>\n    <tr>\n      <th>20626</th>\n      <td>100</td>\n      <td>196</td>\n      <td>-0.0004</td>\n      <td>-0.0003</td>\n      <td>643.49</td>\n      <td>1597.98</td>\n      <td>1428.63</td>\n      <td>21.61</td>\n      <td>551.43</td>\n      <td>2388.19</td>\n      <td>...</td>\n      <td>48.07</td>\n      <td>519.49</td>\n      <td>2388.26</td>\n      <td>8137.60</td>\n      <td>8.4956</td>\n      <td>397</td>\n      <td>38.49</td>\n      <td>22.9735</td>\n      <td>200</td>\n      <td>4</td>\n    </tr>\n    <tr>\n      <th>20627</th>\n      <td>100</td>\n      <td>197</td>\n      <td>-0.0016</td>\n      <td>-0.0005</td>\n      <td>643.54</td>\n      <td>1604.50</td>\n      <td>1433.58</td>\n      <td>21.61</td>\n      <td>550.86</td>\n      <td>2388.23</td>\n      <td>...</td>\n      <td>48.04</td>\n      <td>519.68</td>\n      <td>2388.22</td>\n      <td>8136.50</td>\n      <td>8.5139</td>\n      <td>395</td>\n      <td>38.30</td>\n      <td>23.1594</td>\n      <td>200</td>\n      <td>3</td>\n    </tr>\n    <tr>\n      <th>20628</th>\n      <td>100</td>\n      <td>198</td>\n      <td>0.0004</td>\n      <td>0.0000</td>\n      <td>643.42</td>\n      <td>1602.46</td>\n      <td>1428.18</td>\n      <td>21.61</td>\n      <td>550.94</td>\n      <td>2388.24</td>\n      <td>...</td>\n      <td>48.09</td>\n      <td>520.01</td>\n      <td>2388.24</td>\n      <td>8141.05</td>\n      <td>8.5646</td>\n      <td>398</td>\n      <td>38.44</td>\n      <td>22.9333</td>\n      <td>200</td>\n      <td>2</td>\n    </tr>\n    <tr>\n      <th>20629</th>\n      <td>100</td>\n      <td>199</td>\n      <td>-0.0011</td>\n      <td>0.0003</td>\n      <td>643.23</td>\n      <td>1605.26</td>\n      <td>1426.53</td>\n      <td>21.61</td>\n      <td>550.68</td>\n      <td>2388.25</td>\n      <td>...</td>\n      <td>48.39</td>\n      <td>519.67</td>\n      <td>2388.23</td>\n      <td>8139.29</td>\n      <td>8.5389</td>\n      <td>395</td>\n      <td>38.29</td>\n      <td>23.0640</td>\n      <td>200</td>\n      <td>1</td>\n    </tr>\n    <tr>\n      <th>20630</th>\n      <td>100</td>\n      <td>200</td>\n      <td>-0.0032</td>\n      <td>-0.0005</td>\n      <td>643.85</td>\n      <td>1600.38</td>\n      <td>1432.14</td>\n      <td>21.61</td>\n      <td>550.79</td>\n      <td>2388.26</td>\n      <td>...</td>\n      <td>48.20</td>\n      <td>519.30</td>\n      <td>2388.26</td>\n      <td>8137.33</td>\n      <td>8.5036</td>\n      <td>396</td>\n      <td>38.37</td>\n      <td>23.0522</td>\n      <td>200</td>\n      <td>0</td>\n    </tr>\n  </tbody>\n</table>\n<p>20631 rows × 21 columns</p>\n</div>"
     },
     "execution_count": 26,
     "metadata": {},
     "output_type": "execute_result"
    }
   ],
   "source": [
    "df1 = merge(df_stddev_filtered, df_stddev_filtered.groupby('unit', as_index=False)['cycles'].max(), how='left', on='unit')\n",
    "df1.rename(columns={\"cycles_x\": \"cycles\", \"cycles_y\": \"maxcycles\"}, inplace=True)\n",
    "df1['RUL'] = df1['maxcycles'] - df1['cycles']\n",
    "df1\n"
   ],
   "metadata": {
    "collapsed": false,
    "pycharm": {
     "name": "#%%\n"
    }
   }
  },
  {
   "cell_type": "code",
   "execution_count": 56,
   "outputs": [
    {
     "data": {
      "text/plain": "array([[-7.00000e-04, -4.00000e-04,  6.41820e+02, ...,  2.34190e+01,\n         1.92000e+02,  1.91000e+02],\n       [ 1.90000e-03, -3.00000e-04,  6.42150e+02, ...,  2.34236e+01,\n         1.92000e+02,  1.90000e+02],\n       [-4.30000e-03,  3.00000e-04,  6.42350e+02, ...,  2.33442e+01,\n         1.92000e+02,  1.89000e+02],\n       ...,\n       [ 4.00000e-04,  0.00000e+00,  6.43420e+02, ...,  2.29333e+01,\n         2.00000e+02,  2.00000e+00],\n       [-1.10000e-03,  3.00000e-04,  6.43230e+02, ...,  2.30640e+01,\n         2.00000e+02,  1.00000e+00],\n       [-3.20000e-03, -5.00000e-04,  6.43850e+02, ...,  2.30522e+01,\n         2.00000e+02,  0.00000e+00]])"
     },
     "execution_count": 56,
     "metadata": {},
     "output_type": "execute_result"
    }
   ],
   "source": [
    "train_x = df1.drop([\"unit\", \"cycles\"], axis = 1).values\n",
    "\n",
    "train_x"
   ],
   "metadata": {
    "collapsed": false,
    "pycharm": {
     "name": "#%%\n"
    }
   }
  },
  {
   "cell_type": "code",
   "execution_count": 28,
   "outputs": [
    {
     "data": {
      "text/plain": "       unit  cycles  op_setting1  op_setting2      s2       s3       s4  \\\n0         1       1       0.0023       0.0003  643.02  1585.29  1398.21   \n1         1       2      -0.0027      -0.0003  641.71  1588.45  1395.42   \n2         1       3       0.0003       0.0001  642.46  1586.94  1401.34   \n3         1       4       0.0042       0.0000  642.44  1584.12  1406.42   \n4         1       5       0.0014       0.0000  642.51  1587.19  1401.92   \n...     ...     ...          ...          ...     ...      ...      ...   \n13091   100     194       0.0049       0.0000  643.24  1599.45  1415.79   \n13092   100     195      -0.0011      -0.0001  643.22  1595.69  1422.05   \n13093   100     196      -0.0006      -0.0003  643.44  1593.15  1406.82   \n13094   100     197      -0.0038       0.0001  643.26  1594.99  1419.36   \n13095   100     198       0.0013       0.0003  642.95  1601.62  1424.99   \n\n          s6      s7       s8  ...    s11     s12      s13      s14     s15  \\\n0      21.61  553.90  2388.04  ...  47.20  521.72  2388.03  8125.55  8.4052   \n1      21.61  554.85  2388.01  ...  47.50  522.16  2388.06  8139.62  8.3803   \n2      21.61  554.11  2388.05  ...  47.50  521.97  2388.03  8130.10  8.4441   \n3      21.61  554.07  2388.03  ...  47.28  521.38  2388.05  8132.90  8.3917   \n4      21.61  554.16  2388.01  ...  47.31  522.15  2388.03  8129.54  8.4031   \n...      ...     ...      ...  ...    ...     ...      ...      ...     ...   \n13091  21.61  553.41  2388.02  ...  47.69  520.69  2388.00  8213.28  8.4715   \n13092  21.61  553.22  2388.05  ...  47.60  521.05  2388.09  8210.85  8.4512   \n13093  21.61  553.04  2388.11  ...  47.57  521.18  2388.04  8217.24  8.4569   \n13094  21.61  553.37  2388.07  ...  47.61  521.33  2388.08  8220.48  8.4711   \n13095  21.61  552.48  2388.06  ...  47.80  521.07  2388.05  8214.64  8.4903   \n\n       s17    s20      s21  maxcycles  RUL  \n0      392  38.86  23.3735         31   30  \n1      393  39.02  23.3916         31   29  \n2      393  39.08  23.4166         31   28  \n3      391  39.00  23.3737         31   27  \n4      390  38.99  23.4130         31   26  \n...    ...    ...      ...        ...  ...  \n13091  394  38.65  23.1974        198    4  \n13092  395  38.57  23.2771        198    3  \n13093  395  38.62  23.2051        198    2  \n13094  395  38.66  23.2699        198    1  \n13095  396  38.70  23.1855        198    0  \n\n[13096 rows x 21 columns]",
      "text/html": "<div>\n<style scoped>\n    .dataframe tbody tr th:only-of-type {\n        vertical-align: middle;\n    }\n\n    .dataframe tbody tr th {\n        vertical-align: top;\n    }\n\n    .dataframe thead th {\n        text-align: right;\n    }\n</style>\n<table border=\"1\" class=\"dataframe\">\n  <thead>\n    <tr style=\"text-align: right;\">\n      <th></th>\n      <th>unit</th>\n      <th>cycles</th>\n      <th>op_setting1</th>\n      <th>op_setting2</th>\n      <th>s2</th>\n      <th>s3</th>\n      <th>s4</th>\n      <th>s6</th>\n      <th>s7</th>\n      <th>s8</th>\n      <th>...</th>\n      <th>s11</th>\n      <th>s12</th>\n      <th>s13</th>\n      <th>s14</th>\n      <th>s15</th>\n      <th>s17</th>\n      <th>s20</th>\n      <th>s21</th>\n      <th>maxcycles</th>\n      <th>RUL</th>\n    </tr>\n  </thead>\n  <tbody>\n    <tr>\n      <th>0</th>\n      <td>1</td>\n      <td>1</td>\n      <td>0.0023</td>\n      <td>0.0003</td>\n      <td>643.02</td>\n      <td>1585.29</td>\n      <td>1398.21</td>\n      <td>21.61</td>\n      <td>553.90</td>\n      <td>2388.04</td>\n      <td>...</td>\n      <td>47.20</td>\n      <td>521.72</td>\n      <td>2388.03</td>\n      <td>8125.55</td>\n      <td>8.4052</td>\n      <td>392</td>\n      <td>38.86</td>\n      <td>23.3735</td>\n      <td>31</td>\n      <td>30</td>\n    </tr>\n    <tr>\n      <th>1</th>\n      <td>1</td>\n      <td>2</td>\n      <td>-0.0027</td>\n      <td>-0.0003</td>\n      <td>641.71</td>\n      <td>1588.45</td>\n      <td>1395.42</td>\n      <td>21.61</td>\n      <td>554.85</td>\n      <td>2388.01</td>\n      <td>...</td>\n      <td>47.50</td>\n      <td>522.16</td>\n      <td>2388.06</td>\n      <td>8139.62</td>\n      <td>8.3803</td>\n      <td>393</td>\n      <td>39.02</td>\n      <td>23.3916</td>\n      <td>31</td>\n      <td>29</td>\n    </tr>\n    <tr>\n      <th>2</th>\n      <td>1</td>\n      <td>3</td>\n      <td>0.0003</td>\n      <td>0.0001</td>\n      <td>642.46</td>\n      <td>1586.94</td>\n      <td>1401.34</td>\n      <td>21.61</td>\n      <td>554.11</td>\n      <td>2388.05</td>\n      <td>...</td>\n      <td>47.50</td>\n      <td>521.97</td>\n      <td>2388.03</td>\n      <td>8130.10</td>\n      <td>8.4441</td>\n      <td>393</td>\n      <td>39.08</td>\n      <td>23.4166</td>\n      <td>31</td>\n      <td>28</td>\n    </tr>\n    <tr>\n      <th>3</th>\n      <td>1</td>\n      <td>4</td>\n      <td>0.0042</td>\n      <td>0.0000</td>\n      <td>642.44</td>\n      <td>1584.12</td>\n      <td>1406.42</td>\n      <td>21.61</td>\n      <td>554.07</td>\n      <td>2388.03</td>\n      <td>...</td>\n      <td>47.28</td>\n      <td>521.38</td>\n      <td>2388.05</td>\n      <td>8132.90</td>\n      <td>8.3917</td>\n      <td>391</td>\n      <td>39.00</td>\n      <td>23.3737</td>\n      <td>31</td>\n      <td>27</td>\n    </tr>\n    <tr>\n      <th>4</th>\n      <td>1</td>\n      <td>5</td>\n      <td>0.0014</td>\n      <td>0.0000</td>\n      <td>642.51</td>\n      <td>1587.19</td>\n      <td>1401.92</td>\n      <td>21.61</td>\n      <td>554.16</td>\n      <td>2388.01</td>\n      <td>...</td>\n      <td>47.31</td>\n      <td>522.15</td>\n      <td>2388.03</td>\n      <td>8129.54</td>\n      <td>8.4031</td>\n      <td>390</td>\n      <td>38.99</td>\n      <td>23.4130</td>\n      <td>31</td>\n      <td>26</td>\n    </tr>\n    <tr>\n      <th>...</th>\n      <td>...</td>\n      <td>...</td>\n      <td>...</td>\n      <td>...</td>\n      <td>...</td>\n      <td>...</td>\n      <td>...</td>\n      <td>...</td>\n      <td>...</td>\n      <td>...</td>\n      <td>...</td>\n      <td>...</td>\n      <td>...</td>\n      <td>...</td>\n      <td>...</td>\n      <td>...</td>\n      <td>...</td>\n      <td>...</td>\n      <td>...</td>\n      <td>...</td>\n      <td>...</td>\n    </tr>\n    <tr>\n      <th>13091</th>\n      <td>100</td>\n      <td>194</td>\n      <td>0.0049</td>\n      <td>0.0000</td>\n      <td>643.24</td>\n      <td>1599.45</td>\n      <td>1415.79</td>\n      <td>21.61</td>\n      <td>553.41</td>\n      <td>2388.02</td>\n      <td>...</td>\n      <td>47.69</td>\n      <td>520.69</td>\n      <td>2388.00</td>\n      <td>8213.28</td>\n      <td>8.4715</td>\n      <td>394</td>\n      <td>38.65</td>\n      <td>23.1974</td>\n      <td>198</td>\n      <td>4</td>\n    </tr>\n    <tr>\n      <th>13092</th>\n      <td>100</td>\n      <td>195</td>\n      <td>-0.0011</td>\n      <td>-0.0001</td>\n      <td>643.22</td>\n      <td>1595.69</td>\n      <td>1422.05</td>\n      <td>21.61</td>\n      <td>553.22</td>\n      <td>2388.05</td>\n      <td>...</td>\n      <td>47.60</td>\n      <td>521.05</td>\n      <td>2388.09</td>\n      <td>8210.85</td>\n      <td>8.4512</td>\n      <td>395</td>\n      <td>38.57</td>\n      <td>23.2771</td>\n      <td>198</td>\n      <td>3</td>\n    </tr>\n    <tr>\n      <th>13093</th>\n      <td>100</td>\n      <td>196</td>\n      <td>-0.0006</td>\n      <td>-0.0003</td>\n      <td>643.44</td>\n      <td>1593.15</td>\n      <td>1406.82</td>\n      <td>21.61</td>\n      <td>553.04</td>\n      <td>2388.11</td>\n      <td>...</td>\n      <td>47.57</td>\n      <td>521.18</td>\n      <td>2388.04</td>\n      <td>8217.24</td>\n      <td>8.4569</td>\n      <td>395</td>\n      <td>38.62</td>\n      <td>23.2051</td>\n      <td>198</td>\n      <td>2</td>\n    </tr>\n    <tr>\n      <th>13094</th>\n      <td>100</td>\n      <td>197</td>\n      <td>-0.0038</td>\n      <td>0.0001</td>\n      <td>643.26</td>\n      <td>1594.99</td>\n      <td>1419.36</td>\n      <td>21.61</td>\n      <td>553.37</td>\n      <td>2388.07</td>\n      <td>...</td>\n      <td>47.61</td>\n      <td>521.33</td>\n      <td>2388.08</td>\n      <td>8220.48</td>\n      <td>8.4711</td>\n      <td>395</td>\n      <td>38.66</td>\n      <td>23.2699</td>\n      <td>198</td>\n      <td>1</td>\n    </tr>\n    <tr>\n      <th>13095</th>\n      <td>100</td>\n      <td>198</td>\n      <td>0.0013</td>\n      <td>0.0003</td>\n      <td>642.95</td>\n      <td>1601.62</td>\n      <td>1424.99</td>\n      <td>21.61</td>\n      <td>552.48</td>\n      <td>2388.06</td>\n      <td>...</td>\n      <td>47.80</td>\n      <td>521.07</td>\n      <td>2388.05</td>\n      <td>8214.64</td>\n      <td>8.4903</td>\n      <td>396</td>\n      <td>38.70</td>\n      <td>23.1855</td>\n      <td>198</td>\n      <td>0</td>\n    </tr>\n  </tbody>\n</table>\n<p>13096 rows × 21 columns</p>\n</div>"
     },
     "execution_count": 28,
     "metadata": {},
     "output_type": "execute_result"
    }
   ],
   "source": [
    "df_test = read_csv(\"Data/test_FD001.txt\", delimiter=\" \", names=DATA_LABELS, usecols=range(len(DATA_LABELS)))\n",
    "df_test_stddev_filtered = df_test.drop(df_test.std()[df_test.std() < stddev_threshold].index.values, axis=1)\n",
    "df2 = merge(df_test_stddev_filtered, df_test_stddev_filtered.groupby('unit', as_index=False)['cycles'].max(), how='left', on='unit')\n",
    "df2.rename(columns={\"cycles_x\": \"cycles\", \"cycles_y\": \"maxcycles\"}, inplace=True)\n",
    "df2['RUL'] = df2['maxcycles'] - df2['cycles']\n",
    "df2"
   ],
   "metadata": {
    "collapsed": false,
    "pycharm": {
     "name": "#%%\n"
    }
   }
  },
  {
   "cell_type": "code",
   "execution_count": 29,
   "outputs": [
    {
     "data": {
      "text/plain": "array([[ 2.30000e-03,  3.00000e-04,  6.43020e+02, ...,  2.33735e+01,\n         3.10000e+01,  3.00000e+01],\n       [-2.70000e-03, -3.00000e-04,  6.41710e+02, ...,  2.33916e+01,\n         3.10000e+01,  2.90000e+01],\n       [ 3.00000e-04,  1.00000e-04,  6.42460e+02, ...,  2.34166e+01,\n         3.10000e+01,  2.80000e+01],\n       ...,\n       [-6.00000e-04, -3.00000e-04,  6.43440e+02, ...,  2.32051e+01,\n         1.98000e+02,  2.00000e+00],\n       [-3.80000e-03,  1.00000e-04,  6.43260e+02, ...,  2.32699e+01,\n         1.98000e+02,  1.00000e+00],\n       [ 1.30000e-03,  3.00000e-04,  6.42950e+02, ...,  2.31855e+01,\n         1.98000e+02,  0.00000e+00]])"
     },
     "execution_count": 29,
     "metadata": {},
     "output_type": "execute_result"
    }
   ],
   "source": [
    "test_x = df2.drop([\"unit\", \"cycles\"], axis = 1).values\n",
    "test_x"
   ],
   "metadata": {
    "collapsed": false,
    "pycharm": {
     "name": "#%%\n"
    }
   }
  },
  {
   "cell_type": "code",
   "execution_count": 30,
   "outputs": [
    {
     "data": {
      "text/plain": "array([191, 190, 189, ...,   2,   1,   0], dtype=int64)"
     },
     "execution_count": 30,
     "metadata": {},
     "output_type": "execute_result"
    }
   ],
   "source": [
    "train_y = df1['RUL'].values\n",
    "train_y"
   ],
   "metadata": {
    "collapsed": false,
    "pycharm": {
     "name": "#%%\n"
    }
   }
  },
  {
   "cell_type": "code",
   "execution_count": 33,
   "outputs": [
    {
     "name": "stdout",
     "output_type": "stream",
     "text": [
      "[-6.05709538e-13 -1.61756719e-11  1.97107955e-14  2.41820453e-15\n",
      "  2.45636844e-15  1.10812838e-12 -2.63331024e-14 -4.16297788e-14\n",
      "  1.97064587e-15  1.50995536e-13 -4.74016442e-14 -7.92551788e-15\n",
      "  1.79023463e-15  4.58499693e-13  8.10462808e-15 -8.85962310e-14\n",
      " -1.76731785e-13 -2.33146835e-15  1.00000000e+00]\n",
      "7.470646323781693e-11\n"
     ]
    }
   ],
   "source": [
    "reg = LinearRegression().fit(train_x, train_y)\n",
    "print(reg.coef_)\n",
    "print(reg.intercept_)"
   ],
   "metadata": {
    "collapsed": false,
    "pycharm": {
     "name": "#%%\n"
    }
   }
  },
  {
   "cell_type": "code",
   "execution_count": 35,
   "outputs": [
    {
     "name": "stdout",
     "output_type": "stream",
     "text": [
      "[3.00000000e+01 2.90000000e+01 2.80000000e+01 ... 2.00000000e+00\n",
      " 1.00000000e+00 1.84203649e-13]\n"
     ]
    }
   ],
   "source": [
    "y_pred = reg.predict(test_x)\n",
    "print(y_pred)"
   ],
   "metadata": {
    "collapsed": false,
    "pycharm": {
     "name": "#%%\n"
    }
   }
  },
  {
   "cell_type": "code",
   "execution_count": 58,
   "outputs": [],
   "source": [
    "max_cycles = df_test_stddev_filtered[df_test_stddev_filtered.groupby(['unit'])['cycles'].transform(max) == df_test_stddev_filtered['cycles']]\n",
    "max_cycles_for_prediction = max_cycles.drop([\"unit\", \"cycles\"], axis = 1)"
   ],
   "metadata": {
    "collapsed": false,
    "pycharm": {
     "name": "#%%\n"
    }
   }
  },
  {
   "cell_type": "code",
   "execution_count": 59,
   "outputs": [
    {
     "name": "stdout",
     "output_type": "stream",
     "text": [
      "[23.3552 23.2618 23.274  23.2581 23.4117 23.3269 23.2763 23.2465 23.3515\n",
      " 23.2956 23.2908 23.2861 23.282  23.2603 23.4085 23.304  23.2948 23.2637\n",
      " 23.3297 23.0242 23.4982 23.3058 23.2815 23.2093 23.3876 23.366  23.185\n",
      " 23.2826 23.1975 23.3175 23.1105 23.3456 23.2843 23.0641 23.1161 23.1534\n",
      " 23.2145 23.1739 23.3721 23.0906 23.1718 23.094  23.2379 23.3058 23.312\n",
      " 23.1876 23.2595 23.3238 23.1167 23.291  23.3108 23.211  23.1671 23.4385\n",
      " 23.3438 23.1772 23.291  23.1747 23.4337 23.2971 23.1314 23.2719 23.2344\n",
      " 23.167  23.327  23.0669 23.2914 23.1989 23.1958 23.2231 23.3188 23.2905\n",
      " 23.3074 23.201  23.4919 23.0737 23.1712 23.2748 23.287  23.2813 23.1537\n",
      " 23.1211 23.3021 23.2039 23.3107 23.2484 23.2605 23.4181 23.235  23.1409\n",
      " 23.2522 23.1211 23.1944 23.2933 23.3458 23.4606 23.2953 23.3608 23.3595\n",
      " 23.1855]\n"
     ]
    }
   ],
   "source": [
    "prediction = reg.predict(max_cycles.values)\n",
    "print(prediction)"
   ],
   "metadata": {
    "collapsed": false,
    "pycharm": {
     "name": "#%%\n"
    }
   }
  },
  {
   "cell_type": "code",
   "execution_count": null,
   "outputs": [],
   "source": [],
   "metadata": {
    "collapsed": false,
    "pycharm": {
     "name": "#%%\n"
    }
   }
  }
 ],
 "metadata": {
  "kernelspec": {
   "display_name": "Python 3",
   "language": "python",
   "name": "python3"
  },
  "language_info": {
   "codemirror_mode": {
    "name": "ipython",
    "version": 2
   },
   "file_extension": ".py",
   "mimetype": "text/x-python",
   "name": "python",
   "nbconvert_exporter": "python",
   "pygments_lexer": "ipython2",
   "version": "2.7.6"
  }
 },
 "nbformat": 4,
 "nbformat_minor": 0
}