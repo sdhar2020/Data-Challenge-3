{
 "cells": [
  {
   "cell_type": "markdown",
   "metadata": {},
   "source": [
    "## Variables in Data\n",
    "\n",
    "| Index\t| Symbol | Description | Unit |\n",
    "| --- | --- | --- | --- |\n",
    "| 1\t| T2 | Total | temperature at fan inlet | °R |\n",
    "| 2\t| T24 | Total temperature at LPC outlet | °R |\n",
    "| 3\t| T30 | Total temperature at HPC outlet | °R |\n",
    "| 4\t| T50 | Total temperature at LPT outlet | °R |\n",
    "| 5\t| P2 | Pressure at fan inlet | psia |\n",
    "| 6\t| P15 | Total pressure in bypass-duct | psia |\n",
    "| 7\t| P30 | Total pressure at HPC outlet | psia |\n",
    "| 8\t| Nf | Physical fan speed | rpm |\n",
    "| 9\t| Nc | Physical core speed | rpm |\n",
    "| 10 | epr | Engine pressure ratio (P50/P2) | — |\n",
    "| 11 | Ps30 | Static pressure at HPC outlet | psia |\n",
    "| 12 | phi | Ratio of fuel flow to Ps30 | pps/psi |\n",
    "| 13 | NRf | Corrected fan speed | rpm |\n",
    "| 14 | NRc | Corrected core speed | rpm |\n",
    "| 15 | BPR | Bypass ratio | — |\n",
    "| 16 | farB | Burner fuel-air ratio | — |\n",
    "| 17 | htBleed | Bleed enthalpy | — |\n",
    "| 18 | Nf_dmd | Demanded fan speed | rpm |\n",
    "| 19 | PCNFR_dmd | Demanded corrected fan speed | rpm |\n",
    "| 20 | W31\tHPT | coolant bleed | lbm/s |\n",
    "| 21 | W32\tLPT | coolant bleed | lbm/s |"
   ]
  },
  {
   "cell_type": "code",
   "execution_count": 79,
   "metadata": {},
   "outputs": [],
   "source": [
    "import requests, zipfile, io\n",
    "\n",
    "r= requests.get('https://ti.arc.nasa.gov/c/6/', stream=True)\n",
    "z = zipfile.ZipFile(io.BytesIO(r.content))\n",
    "z.extractall()\n",
    "train = []\n",
    "test = []\n",
    "RUL = []\n",
    "for i in range(1,5):\n",
    "    train.append( pd.read_csv('train_FD00'+str(i) +'.txt', parse_dates=False, delimiter=\" \", decimal=\".\", header=None))\n",
    "    test.append( pd.read_csv('test_FD00'+str(i)+'.txt', parse_dates=False, delimiter=\" \", decimal=\".\", header=None))\n",
    "    RUL.append(pd.read_csv('RUL_FD00'+str(i)+'.txt', parse_dates=False, delimiter=\" \", decimal=\".\", header=None))\n",
    "cols = ['unit', 'cycles', 'op_setting1', 'op_setting2', 'op_setting3', 's1', 's2', 's3', 's4', 's5', 's6', 's7', 's8', 's9', 's10', 's11', 's12', 's13', 's14', 's15', 's16', 's17', 's18', 's19', 's20', 's21']\n",
    "for df in train:\n",
    "    df.drop(df.columns[list(df.columns[df.isnull().sum() > 0])], axis=1, inplace=True)\n",
    "    df.columns = cols\n"
   ]
  },
  {
   "cell_type": "code",
   "execution_count": 106,
   "metadata": {},
   "outputs": [
    {
     "data": {
      "text/plain": [
       "Index(['s3', 's4', 's9', 's14', 's17'], dtype='object')"
      ]
     },
     "execution_count": 106,
     "metadata": {},
     "output_type": "execute_result"
    }
   ],
   "source": [
    "from sklearn.feature_selection import VarianceThreshold\n",
    "#print(train[0])\n",
    "# train[0].plot(kind = 'line', x = 0, y = 6)\n",
    "constant_filter = VarianceThreshold(threshold=1)\n",
    "constant_filter.fit(train[0])\n",
    "constant_columns = [column for column in train[0].columns\n",
    "                    if column not in train[0].columns[constant_filter.get_support()]]\n",
    "columns = train[0].columns[constant_filter.get_support()].drop(['unit', 'cycles'])\n",
    "columns\n",
    "# groups = train[0].var().filter()\n",
    "# for i in range(0,4):\n",
    "#     print(test[i].var())\n"
   ]
  },
  {
   "cell_type": "code",
   "execution_count": 78,
   "metadata": {
    "collapsed": true
   },
   "outputs": [
    {
     "name": "stdout",
     "output_type": "stream",
     "text": [
      "                                                unit  cycles  op_setting1  \\\n",
      "0  1 1 0.0023 0.0003 100.0 518.67 643.02 1585.29 ...     NaN          NaN   \n",
      "1  1 2 -0.0027 -0.0003 100.0 518.67 641.71 1588.4...     NaN          NaN   \n",
      "2  1 3 0.0003 0.0001 100.0 518.67 642.46 1586.94 ...     NaN          NaN   \n",
      "3  1 4 0.0042 0.0000 100.0 518.67 642.44 1584.12 ...     NaN          NaN   \n",
      "4  1 5 0.0014 0.0000 100.0 518.67 642.51 1587.19 ...     NaN          NaN   \n",
      "\n",
      "   op_setting2  op_setting3  s1  s2  s3  s4  s5  ...  s12  s13  s14  s15  s16  \\\n",
      "0          NaN          NaN NaN NaN NaN NaN NaN  ...  NaN  NaN  NaN  NaN  NaN   \n",
      "1          NaN          NaN NaN NaN NaN NaN NaN  ...  NaN  NaN  NaN  NaN  NaN   \n",
      "2          NaN          NaN NaN NaN NaN NaN NaN  ...  NaN  NaN  NaN  NaN  NaN   \n",
      "3          NaN          NaN NaN NaN NaN NaN NaN  ...  NaN  NaN  NaN  NaN  NaN   \n",
      "4          NaN          NaN NaN NaN NaN NaN NaN  ...  NaN  NaN  NaN  NaN  NaN   \n",
      "\n",
      "   s17  s18  s19  s20  s21  \n",
      "0  NaN  NaN  NaN  NaN  NaN  \n",
      "1  NaN  NaN  NaN  NaN  NaN  \n",
      "2  NaN  NaN  NaN  NaN  NaN  \n",
      "3  NaN  NaN  NaN  NaN  NaN  \n",
      "4  NaN  NaN  NaN  NaN  NaN  \n",
      "\n",
      "[5 rows x 26 columns]\n"
     ]
    }
   ],
   "source": [
    "import pandas as pd\n",
    "import matplotlib.pyplot as plt\n",
    "\n",
    "\n",
    "cols = ['unit', 'cycles', 'op_setting1', 'op_setting2', 'op_setting3', 's1', 's2', 's3', 's4', 's5', 's6', 's7', 's8', 's9', 's10', 's11', 's12', 's13', 's14', 's15', 's16', 's17', 's18', 's19', 's20', 's21']\n",
    "\n",
    "df = pd.read_csv('test_FD001.txt', names = cols)\n",
    "# df.drop(df.columns[list(df.columns[df.isnull().sum() > 0])], axis=1, inplace=True)\n",
    "#df.plot( kind = 'line', x = 'cycles', y = 's1')\n",
    "print (df.head())\n",
    "\n",
    "# for df in [df1, df2, df3]:\n",
    "#     df.drop(df.columns[list(df.columns[df.isnull().sum() > 0])], axis=1, inplace=True)\n",
    "#     df.columns = cols\n",
    "\n"
   ]
  },
  {
   "cell_type": "code",
   "execution_count": null,
   "metadata": {},
   "outputs": [],
   "source": []
  }
 ],
 "metadata": {
  "kernelspec": {
   "display_name": "Python 3",
   "language": "python",
   "name": "python3"
  },
  "language_info": {
   "codemirror_mode": {
    "name": "ipython",
    "version": 3
   },
   "file_extension": ".py",
   "mimetype": "text/x-python",
   "name": "python",
   "nbconvert_exporter": "python",
   "pygments_lexer": "ipython3",
   "version": "3.8.6"
  }
 },
 "nbformat": 4,
 "nbformat_minor": 4
}
